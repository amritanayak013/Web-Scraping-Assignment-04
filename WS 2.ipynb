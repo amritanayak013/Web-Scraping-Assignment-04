{
 "cells": [
  {
   "cell_type": "raw",
   "metadata": {},
   "source": [
    "7. Scrape the details of Data science recruiters from naukri.com.\n",
    "Url = https://www.naukri.com/\n",
    "You have to find the following details:\n",
    "A) Name\n",
    "B) Designation\n",
    "C) Company\n",
    "D) Skills they hire for\n",
    "E) Location\n",
    "Note: - From naukri.com homepage click on the recruiters option and the on the search pane type Data science and click on search. All this should be done through code"
   ]
  },
  {
   "cell_type": "code",
   "execution_count": 1,
   "metadata": {},
   "outputs": [],
   "source": [
    "import selenium\n",
    "import pandas as pd\n",
    "from selenium import webdriver"
   ]
  },
  {
   "cell_type": "code",
   "execution_count": 2,
   "metadata": {},
   "outputs": [],
   "source": [
    "#connecting to webdriver\n",
    "driver = webdriver.Chrome(r\"C://chromedriver.exe\")"
   ]
  },
  {
   "cell_type": "code",
   "execution_count": 3,
   "metadata": {},
   "outputs": [],
   "source": [
    "driver.get(\"https://www.naukri.com/\")"
   ]
  },
  {
   "cell_type": "code",
   "execution_count": 4,
   "metadata": {},
   "outputs": [],
   "source": [
    "search_job = driver.find_element_by_id ('qsb-keyword-sugg')\n",
    "search_job.send_keys('Data Scientist')"
   ]
  },
  {
   "cell_type": "code",
   "execution_count": 5,
   "metadata": {},
   "outputs": [],
   "source": [
    "search_btn = driver.find_element_by_xpath(\"//div[@class ='search-btn']/button\")\n",
    "search_btn.click()"
   ]
  },
  {
   "cell_type": "code",
   "execution_count": 6,
   "metadata": {},
   "outputs": [],
   "source": [
    "url = \"https://www.naukri.com/data-scientist-jobs?k=data%20scientist\""
   ]
  },
  {
   "cell_type": "code",
   "execution_count": 7,
   "metadata": {},
   "outputs": [],
   "source": [
    "# lets open the page through web driver\n",
    "driver.get(url)"
   ]
  },
  {
   "cell_type": "code",
   "execution_count": 8,
   "metadata": {},
   "outputs": [],
   "source": [
    "job_titles = []\n",
    "job_location = []\n",
    "company_names = []\n",
    "job_description =[]"
   ]
  },
  {
   "cell_type": "code",
   "execution_count": 9,
   "metadata": {},
   "outputs": [
    {
     "data": {
      "text/plain": [
       "[<selenium.webdriver.remote.webelement.WebElement (session=\"e9b5a7ca1f9c8de817d604687ead98f2\", element=\"bd82646d-ce66-4373-a15e-eccbf8c47e96\")>,\n",
       " <selenium.webdriver.remote.webelement.WebElement (session=\"e9b5a7ca1f9c8de817d604687ead98f2\", element=\"aabf3e83-322a-4997-bd0d-4557729273af\")>,\n",
       " <selenium.webdriver.remote.webelement.WebElement (session=\"e9b5a7ca1f9c8de817d604687ead98f2\", element=\"6884061a-7968-47c5-8a09-8bebd1dc2f1a\")>,\n",
       " <selenium.webdriver.remote.webelement.WebElement (session=\"e9b5a7ca1f9c8de817d604687ead98f2\", element=\"862a05b7-7f7f-4021-8f5f-f29b829c8ae3\")>,\n",
       " <selenium.webdriver.remote.webelement.WebElement (session=\"e9b5a7ca1f9c8de817d604687ead98f2\", element=\"ebf977dd-de69-4f68-be19-405c18c17098\")>,\n",
       " <selenium.webdriver.remote.webelement.WebElement (session=\"e9b5a7ca1f9c8de817d604687ead98f2\", element=\"5321a6b3-e45b-4d14-b4f3-cbb657e93996\")>,\n",
       " <selenium.webdriver.remote.webelement.WebElement (session=\"e9b5a7ca1f9c8de817d604687ead98f2\", element=\"73d4faad-d1b5-4d3c-869a-ea64ada728fe\")>,\n",
       " <selenium.webdriver.remote.webelement.WebElement (session=\"e9b5a7ca1f9c8de817d604687ead98f2\", element=\"30c8b4ff-7cc6-481f-979b-1d906663a279\")>,\n",
       " <selenium.webdriver.remote.webelement.WebElement (session=\"e9b5a7ca1f9c8de817d604687ead98f2\", element=\"03b286d5-0062-42bf-8db6-48114e15bf16\")>,\n",
       " <selenium.webdriver.remote.webelement.WebElement (session=\"e9b5a7ca1f9c8de817d604687ead98f2\", element=\"8465d687-f041-47fb-91e1-b317af5a63e3\")>]"
      ]
     },
     "execution_count": 9,
     "metadata": {},
     "output_type": "execute_result"
    }
   ],
   "source": [
    "#lets extract job titles\n",
    "titles_tags = driver.find_elements_by_xpath (\"//a[@class = 'title fw500 ellipsis']\")\n",
    "titles_tags [0:10]"
   ]
  },
  {
   "cell_type": "code",
   "execution_count": 10,
   "metadata": {},
   "outputs": [
    {
     "data": {
      "text/plain": [
       "['Senior / Lead Data Scientist',\n",
       " 'Senior Data Scientist | CES IT LTD | CMMI Level 5',\n",
       " 'Senior Data Scientist | CES IT LTD | CMMI Level 5',\n",
       " 'Analytics & AI Product Mgmt - Sr. Data Scientist',\n",
       " 'Principal Data Scientist',\n",
       " 'Senior Data Scientist',\n",
       " 'Senior Data Scientist - SQL/Spark/Python',\n",
       " 'Senior Data Scientist: Computer Vision/Image Analytics',\n",
       " 'Senior Data Scientist',\n",
       " 'Senior Data Scientist, Modeling']"
      ]
     },
     "execution_count": 10,
     "metadata": {},
     "output_type": "execute_result"
    }
   ],
   "source": [
    "for i in  titles_tags:\n",
    "    title = i.text\n",
    "    job_titles.append(title)\n",
    "job_titles [0:10]"
   ]
  },
  {
   "cell_type": "code",
   "execution_count": 11,
   "metadata": {},
   "outputs": [
    {
     "data": {
      "text/plain": [
       "[<selenium.webdriver.remote.webelement.WebElement (session=\"e9b5a7ca1f9c8de817d604687ead98f2\", element=\"885fcd2c-48e3-4128-970d-58b318b1eb8e\")>,\n",
       " <selenium.webdriver.remote.webelement.WebElement (session=\"e9b5a7ca1f9c8de817d604687ead98f2\", element=\"b6ecb817-1907-41f5-aaef-5b21496fae53\")>,\n",
       " <selenium.webdriver.remote.webelement.WebElement (session=\"e9b5a7ca1f9c8de817d604687ead98f2\", element=\"383445b7-e0f5-4e23-9684-47cd6e7a7c48\")>,\n",
       " <selenium.webdriver.remote.webelement.WebElement (session=\"e9b5a7ca1f9c8de817d604687ead98f2\", element=\"ebd7a709-fff9-4a5f-a088-77f6d8e72c98\")>,\n",
       " <selenium.webdriver.remote.webelement.WebElement (session=\"e9b5a7ca1f9c8de817d604687ead98f2\", element=\"80aec3f8-a149-40ff-ad1a-54fa6604ef27\")>,\n",
       " <selenium.webdriver.remote.webelement.WebElement (session=\"e9b5a7ca1f9c8de817d604687ead98f2\", element=\"94b561af-f64b-4384-8396-7321d553d99a\")>,\n",
       " <selenium.webdriver.remote.webelement.WebElement (session=\"e9b5a7ca1f9c8de817d604687ead98f2\", element=\"982de650-7f60-4e54-9152-d84748c939e0\")>,\n",
       " <selenium.webdriver.remote.webelement.WebElement (session=\"e9b5a7ca1f9c8de817d604687ead98f2\", element=\"55cba304-36de-484d-865d-fe0bced0d0ce\")>,\n",
       " <selenium.webdriver.remote.webelement.WebElement (session=\"e9b5a7ca1f9c8de817d604687ead98f2\", element=\"e357d518-666a-4bdb-b9a4-f8a6f48b7c26\")>,\n",
       " <selenium.webdriver.remote.webelement.WebElement (session=\"e9b5a7ca1f9c8de817d604687ead98f2\", element=\"f56e43f9-aeb5-4790-b557-375457de175a\")>]"
      ]
     },
     "execution_count": 11,
     "metadata": {},
     "output_type": "execute_result"
    }
   ],
   "source": [
    "#lets extract job locations\n",
    "locations_tags = driver.find_elements_by_xpath (\"//li[@class = 'fleft grey-text br2 placeHolderLi location']\")\n",
    "locations_tags [0:10]"
   ]
  },
  {
   "cell_type": "code",
   "execution_count": 12,
   "metadata": {},
   "outputs": [
    {
     "data": {
      "text/plain": [
       "['Pune, Chennai, Bangalore/Bengaluru',\n",
       " 'Kolkata, Mumbai, Hyderabad/Secunderabad, Pune, Chennai, Bangalore/Bengaluru, Delhi / NCR',\n",
       " 'Kolkata, Mumbai, Hyderabad/Secunderabad, Pune, Chennai, Bangalore/Bengaluru, Delhi / NCR',\n",
       " 'Bangalore/Bengaluru',\n",
       " 'Other',\n",
       " 'Mumbai',\n",
       " 'Mumbai, Thane, Navi Mumbai',\n",
       " 'Mumbai',\n",
       " 'Pune, Chennai, Bangalore/Bengaluru',\n",
       " 'Kolkata, Gurgaon/Gurugram, Bangalore/Bengaluru, Vadodara, Mumbai (All Areas)']"
      ]
     },
     "execution_count": 12,
     "metadata": {},
     "output_type": "execute_result"
    }
   ],
   "source": [
    "for i in  locations_tags:\n",
    "    location = i.text\n",
    "    job_location.append(location)\n",
    "job_location [0:10]"
   ]
  },
  {
   "cell_type": "code",
   "execution_count": 13,
   "metadata": {},
   "outputs": [
    {
     "data": {
      "text/plain": [
       "[<selenium.webdriver.remote.webelement.WebElement (session=\"e9b5a7ca1f9c8de817d604687ead98f2\", element=\"03d2e1ef-85df-4daf-aaab-66441c319726\")>,\n",
       " <selenium.webdriver.remote.webelement.WebElement (session=\"e9b5a7ca1f9c8de817d604687ead98f2\", element=\"2e1db55c-63b6-452f-b09d-f337129b027a\")>,\n",
       " <selenium.webdriver.remote.webelement.WebElement (session=\"e9b5a7ca1f9c8de817d604687ead98f2\", element=\"0818dfe9-87cc-4253-8479-ff6217bbb8cc\")>,\n",
       " <selenium.webdriver.remote.webelement.WebElement (session=\"e9b5a7ca1f9c8de817d604687ead98f2\", element=\"a6477636-2c6c-404a-b6b4-1eb8c9878089\")>,\n",
       " <selenium.webdriver.remote.webelement.WebElement (session=\"e9b5a7ca1f9c8de817d604687ead98f2\", element=\"8de01dc6-ae75-4d55-9668-793117311b17\")>,\n",
       " <selenium.webdriver.remote.webelement.WebElement (session=\"e9b5a7ca1f9c8de817d604687ead98f2\", element=\"b6eb65f8-8b0c-4d3f-a17d-085a4a02a2e9\")>,\n",
       " <selenium.webdriver.remote.webelement.WebElement (session=\"e9b5a7ca1f9c8de817d604687ead98f2\", element=\"6c382d39-a1a0-44ae-ad6c-152832a3c381\")>,\n",
       " <selenium.webdriver.remote.webelement.WebElement (session=\"e9b5a7ca1f9c8de817d604687ead98f2\", element=\"4eae4d74-dfec-4b0a-878e-31f7ee7982b1\")>,\n",
       " <selenium.webdriver.remote.webelement.WebElement (session=\"e9b5a7ca1f9c8de817d604687ead98f2\", element=\"c9ac9431-880b-47ab-945e-ed26a5a476f3\")>,\n",
       " <selenium.webdriver.remote.webelement.WebElement (session=\"e9b5a7ca1f9c8de817d604687ead98f2\", element=\"28a0a0f1-55ac-467c-907d-3de09ecb69c6\")>]"
      ]
     },
     "execution_count": 13,
     "metadata": {},
     "output_type": "execute_result"
    }
   ],
   "source": [
    "#lets extract company names\n",
    "companies_tags = driver.find_elements_by_xpath (\"//a[@class = 'subTitle ellipsis fleft']\")\n",
    "companies_tags [0:10]"
   ]
  },
  {
   "cell_type": "code",
   "execution_count": 14,
   "metadata": {},
   "outputs": [
    {
     "data": {
      "text/plain": [
       "['TVS CREDIT SERVICES LIMITED',\n",
       " 'CES Ltd.',\n",
       " 'CES Ltd.',\n",
       " 'GlaxoSmithKline Pharmaceuticals Limited',\n",
       " 'Walmart Global Tech India',\n",
       " 'VIAPROM Analytics',\n",
       " 'Datamatics Business Solutions',\n",
       " 'Fractal Analytics',\n",
       " 'Vijaya Management Services',\n",
       " 'Nielsen']"
      ]
     },
     "execution_count": 14,
     "metadata": {},
     "output_type": "execute_result"
    }
   ],
   "source": [
    "for i in  companies_tags:\n",
    "    company = i.text\n",
    "    company_names.append(company)\n",
    "company_names [0:10]"
   ]
  },
  {
   "cell_type": "code",
   "execution_count": 15,
   "metadata": {},
   "outputs": [
    {
     "data": {
      "text/plain": [
       "[<selenium.webdriver.remote.webelement.WebElement (session=\"e9b5a7ca1f9c8de817d604687ead98f2\", element=\"18dd2368-c88f-41f5-8c91-b1121d6b6a56\")>,\n",
       " <selenium.webdriver.remote.webelement.WebElement (session=\"e9b5a7ca1f9c8de817d604687ead98f2\", element=\"5a10b2a0-cd01-4664-8eee-e699cee56373\")>,\n",
       " <selenium.webdriver.remote.webelement.WebElement (session=\"e9b5a7ca1f9c8de817d604687ead98f2\", element=\"d0d112b4-a529-4824-9670-d93856d5d7fb\")>,\n",
       " <selenium.webdriver.remote.webelement.WebElement (session=\"e9b5a7ca1f9c8de817d604687ead98f2\", element=\"3cd02051-fb49-4407-8a5c-abcf948dc27d\")>,\n",
       " <selenium.webdriver.remote.webelement.WebElement (session=\"e9b5a7ca1f9c8de817d604687ead98f2\", element=\"94de7726-8217-4861-80d7-0634da1b2a65\")>,\n",
       " <selenium.webdriver.remote.webelement.WebElement (session=\"e9b5a7ca1f9c8de817d604687ead98f2\", element=\"1cfc7f03-1a6c-4082-9482-33677ddd296c\")>,\n",
       " <selenium.webdriver.remote.webelement.WebElement (session=\"e9b5a7ca1f9c8de817d604687ead98f2\", element=\"1e301fc0-1f57-4284-9683-f9383591be2a\")>,\n",
       " <selenium.webdriver.remote.webelement.WebElement (session=\"e9b5a7ca1f9c8de817d604687ead98f2\", element=\"bc23deeb-08de-48ea-b3a9-548974e5c1a3\")>,\n",
       " <selenium.webdriver.remote.webelement.WebElement (session=\"e9b5a7ca1f9c8de817d604687ead98f2\", element=\"81794b9e-d55b-4e58-8fef-01373fc047c3\")>,\n",
       " <selenium.webdriver.remote.webelement.WebElement (session=\"e9b5a7ca1f9c8de817d604687ead98f2\", element=\"f53afc78-6f80-4069-9c56-ff74d583ab48\")>]"
      ]
     },
     "execution_count": 15,
     "metadata": {},
     "output_type": "execute_result"
    }
   ],
   "source": [
    "#lets extract description\n",
    "descriptions_tags = driver.find_elements_by_xpath (\"//div[@class = 'job-description fs12 grey-text']\")\n",
    "descriptions_tags [0:10]"
   ]
  },
  {
   "cell_type": "code",
   "execution_count": 16,
   "metadata": {},
   "outputs": [
    {
     "data": {
      "text/plain": [
       "['Experience in working with large data sets and big data systems (SQL, Hadoop, Hive, etc...',\n",
       " 'Must be extremely detail and technology-oriented and possess excellent communications s...',\n",
       " 'Must be extremely detail and technology-oriented and possess excellent communications s...',\n",
       " 'A higher degree (PhD preferred) in Engineering, Statistics, Data Science, Applied Mathe...',\n",
       " 'This is an exciting opportunity for you to innovate, influence transform shopping exper...',\n",
       " 'Extensive experience in Machine learning algorithms such as Regression, Advanced Regres...',\n",
       " 'Artificial Intelligence and Machine Learning experience in building data modelsEducatio...',\n",
       " 'Ability to understand client requirements, design and drive the solutions Design, under...',\n",
       " '3+ years practical experience with advanced machine learning techniques and big data te...',\n",
       " 'Masters degree in Economics, Mathematics, Statistics, Engineering 5 years of relevant e...']"
      ]
     },
     "execution_count": 16,
     "metadata": {},
     "output_type": "execute_result"
    }
   ],
   "source": [
    "for i in descriptions_tags:\n",
    "    descrpt = i.text\n",
    "    job_description.append(descrpt)\n",
    "job_description [0:10]"
   ]
  },
  {
   "cell_type": "code",
   "execution_count": 17,
   "metadata": {},
   "outputs": [
    {
     "name": "stdout",
     "output_type": "stream",
     "text": [
      "20 20 20 20\n"
     ]
    }
   ],
   "source": [
    "print (len (job_titles),len (job_location),len (company_names),len (job_description))"
   ]
  },
  {
   "cell_type": "code",
   "execution_count": 18,
   "metadata": {},
   "outputs": [],
   "source": [
    "#importing pandas\n",
    "jobs = pd.DataFrame ({})\n",
    "jobs ['TITLE'] = job_titles\n",
    "jobs ['LOCATION'] = job_location\n",
    "jobs ['COMPANY'] = company_names\n",
    "jobs ['DESCRIPTION'] = job_description"
   ]
  },
  {
   "cell_type": "code",
   "execution_count": 19,
   "metadata": {},
   "outputs": [
    {
     "data": {
      "text/html": [
       "<div>\n",
       "<style scoped>\n",
       "    .dataframe tbody tr th:only-of-type {\n",
       "        vertical-align: middle;\n",
       "    }\n",
       "\n",
       "    .dataframe tbody tr th {\n",
       "        vertical-align: top;\n",
       "    }\n",
       "\n",
       "    .dataframe thead th {\n",
       "        text-align: right;\n",
       "    }\n",
       "</style>\n",
       "<table border=\"1\" class=\"dataframe\">\n",
       "  <thead>\n",
       "    <tr style=\"text-align: right;\">\n",
       "      <th></th>\n",
       "      <th>TITLE</th>\n",
       "      <th>LOCATION</th>\n",
       "      <th>COMPANY</th>\n",
       "      <th>DESCRIPTION</th>\n",
       "    </tr>\n",
       "  </thead>\n",
       "  <tbody>\n",
       "    <tr>\n",
       "      <th>0</th>\n",
       "      <td>Senior / Lead Data Scientist</td>\n",
       "      <td>Pune, Chennai, Bangalore/Bengaluru</td>\n",
       "      <td>TVS CREDIT SERVICES LIMITED</td>\n",
       "      <td>Experience in working with large data sets and...</td>\n",
       "    </tr>\n",
       "    <tr>\n",
       "      <th>1</th>\n",
       "      <td>Senior Data Scientist | CES IT LTD | CMMI Level 5</td>\n",
       "      <td>Kolkata, Mumbai, Hyderabad/Secunderabad, Pune,...</td>\n",
       "      <td>CES Ltd.</td>\n",
       "      <td>Must be extremely detail and technology-orient...</td>\n",
       "    </tr>\n",
       "    <tr>\n",
       "      <th>2</th>\n",
       "      <td>Senior Data Scientist | CES IT LTD | CMMI Level 5</td>\n",
       "      <td>Kolkata, Mumbai, Hyderabad/Secunderabad, Pune,...</td>\n",
       "      <td>CES Ltd.</td>\n",
       "      <td>Must be extremely detail and technology-orient...</td>\n",
       "    </tr>\n",
       "    <tr>\n",
       "      <th>3</th>\n",
       "      <td>Analytics &amp; AI Product Mgmt - Sr. Data Scientist</td>\n",
       "      <td>Bangalore/Bengaluru</td>\n",
       "      <td>GlaxoSmithKline Pharmaceuticals Limited</td>\n",
       "      <td>A higher degree (PhD preferred) in Engineering...</td>\n",
       "    </tr>\n",
       "    <tr>\n",
       "      <th>4</th>\n",
       "      <td>Principal Data Scientist</td>\n",
       "      <td>Other</td>\n",
       "      <td>Walmart Global Tech India</td>\n",
       "      <td>This is an exciting opportunity for you to inn...</td>\n",
       "    </tr>\n",
       "    <tr>\n",
       "      <th>5</th>\n",
       "      <td>Senior Data Scientist</td>\n",
       "      <td>Mumbai</td>\n",
       "      <td>VIAPROM Analytics</td>\n",
       "      <td>Extensive experience in Machine learning algor...</td>\n",
       "    </tr>\n",
       "    <tr>\n",
       "      <th>6</th>\n",
       "      <td>Senior Data Scientist - SQL/Spark/Python</td>\n",
       "      <td>Mumbai, Thane, Navi Mumbai</td>\n",
       "      <td>Datamatics Business Solutions</td>\n",
       "      <td>Artificial Intelligence and Machine Learning e...</td>\n",
       "    </tr>\n",
       "    <tr>\n",
       "      <th>7</th>\n",
       "      <td>Senior Data Scientist: Computer Vision/Image A...</td>\n",
       "      <td>Mumbai</td>\n",
       "      <td>Fractal Analytics</td>\n",
       "      <td>Ability to understand client requirements, des...</td>\n",
       "    </tr>\n",
       "    <tr>\n",
       "      <th>8</th>\n",
       "      <td>Senior Data Scientist</td>\n",
       "      <td>Pune, Chennai, Bangalore/Bengaluru</td>\n",
       "      <td>Vijaya Management Services</td>\n",
       "      <td>3+ years practical experience with advanced ma...</td>\n",
       "    </tr>\n",
       "    <tr>\n",
       "      <th>9</th>\n",
       "      <td>Senior Data Scientist, Modeling</td>\n",
       "      <td>Kolkata, Gurgaon/Gurugram, Bangalore/Bengaluru...</td>\n",
       "      <td>Nielsen</td>\n",
       "      <td>Masters degree in Economics, Mathematics, Stat...</td>\n",
       "    </tr>\n",
       "    <tr>\n",
       "      <th>10</th>\n",
       "      <td>Data Scientist - IBM Garage</td>\n",
       "      <td>Noida, Hyderabad/Secunderabad, Bangalore/Benga...</td>\n",
       "      <td>IBM India Pvt. Limited</td>\n",
       "      <td>Required Technical and Professional ExpertiseP...</td>\n",
       "    </tr>\n",
       "    <tr>\n",
       "      <th>11</th>\n",
       "      <td>Sr. Data Scientist I, SIP</td>\n",
       "      <td>Hyderabad/Secunderabad</td>\n",
       "      <td>Invesco</td>\n",
       "      <td>Job SummaryWere a leading independent investme...</td>\n",
       "    </tr>\n",
       "    <tr>\n",
       "      <th>12</th>\n",
       "      <td>Data Scientist</td>\n",
       "      <td>Hyderabad/Secunderabad</td>\n",
       "      <td>Tide Software</td>\n",
       "      <td>Youve expertise preferably with Python or othe...</td>\n",
       "    </tr>\n",
       "    <tr>\n",
       "      <th>13</th>\n",
       "      <td>Data Scientist</td>\n",
       "      <td>Noida, Hyderabad/Secunderabad, Bangalore/Benga...</td>\n",
       "      <td>IBM India Pvt. Limited</td>\n",
       "      <td>Should have hired and nurtured talent and grow...</td>\n",
       "    </tr>\n",
       "    <tr>\n",
       "      <th>14</th>\n",
       "      <td>Data Scientist</td>\n",
       "      <td>Noida, Hyderabad/Secunderabad, Bangalore/Benga...</td>\n",
       "      <td>IBM India Pvt. Limited</td>\n",
       "      <td>Should have hired and nurtured talent and grow...</td>\n",
       "    </tr>\n",
       "    <tr>\n",
       "      <th>15</th>\n",
       "      <td>Data Scientist - Python/ MATLAB/ Machine Learn...</td>\n",
       "      <td>Bangalore/Bengaluru</td>\n",
       "      <td>Wrackle Technologies Pvt Ltd</td>\n",
       "      <td>BS / MS/PhD in Computer Science, Statistics, A...</td>\n",
       "    </tr>\n",
       "    <tr>\n",
       "      <th>16</th>\n",
       "      <td>Lead Data Scientist - Machine Learning/ Data M...</td>\n",
       "      <td>Bangalore/Bengaluru</td>\n",
       "      <td>Wrackle Technologies Pvt Ltd</td>\n",
       "      <td>BS/ MS/ PhD in Computer Science, Statistics, A...</td>\n",
       "    </tr>\n",
       "    <tr>\n",
       "      <th>17</th>\n",
       "      <td>Manager- Senior Clinical Data Scientist</td>\n",
       "      <td>Chennai</td>\n",
       "      <td>PFIZER LIMITED</td>\n",
       "      <td>Provide project management leadership to DM te...</td>\n",
       "    </tr>\n",
       "    <tr>\n",
       "      <th>18</th>\n",
       "      <td>Senior Data Scientist - Credit risk</td>\n",
       "      <td>Bangalore/Bengaluru</td>\n",
       "      <td>Scienaptic Systems</td>\n",
       "      <td>Responsibilities and duties Focus on developin...</td>\n",
       "    </tr>\n",
       "    <tr>\n",
       "      <th>19</th>\n",
       "      <td>Hiring For Data Scientist(Python - ML) early j...</td>\n",
       "      <td>Chandigarh, Pune, Mumbai (All Areas)</td>\n",
       "      <td>eClerx Services Ltd.</td>\n",
       "      <td>Should be willing to work in shifts (APJ, EME ...</td>\n",
       "    </tr>\n",
       "  </tbody>\n",
       "</table>\n",
       "</div>"
      ],
      "text/plain": [
       "                                                TITLE  \\\n",
       "0                        Senior / Lead Data Scientist   \n",
       "1   Senior Data Scientist | CES IT LTD | CMMI Level 5   \n",
       "2   Senior Data Scientist | CES IT LTD | CMMI Level 5   \n",
       "3    Analytics & AI Product Mgmt - Sr. Data Scientist   \n",
       "4                            Principal Data Scientist   \n",
       "5                               Senior Data Scientist   \n",
       "6            Senior Data Scientist - SQL/Spark/Python   \n",
       "7   Senior Data Scientist: Computer Vision/Image A...   \n",
       "8                               Senior Data Scientist   \n",
       "9                     Senior Data Scientist, Modeling   \n",
       "10                        Data Scientist - IBM Garage   \n",
       "11                          Sr. Data Scientist I, SIP   \n",
       "12                                     Data Scientist   \n",
       "13                                     Data Scientist   \n",
       "14                                     Data Scientist   \n",
       "15  Data Scientist - Python/ MATLAB/ Machine Learn...   \n",
       "16  Lead Data Scientist - Machine Learning/ Data M...   \n",
       "17            Manager- Senior Clinical Data Scientist   \n",
       "18                Senior Data Scientist - Credit risk   \n",
       "19  Hiring For Data Scientist(Python - ML) early j...   \n",
       "\n",
       "                                             LOCATION  \\\n",
       "0                  Pune, Chennai, Bangalore/Bengaluru   \n",
       "1   Kolkata, Mumbai, Hyderabad/Secunderabad, Pune,...   \n",
       "2   Kolkata, Mumbai, Hyderabad/Secunderabad, Pune,...   \n",
       "3                                 Bangalore/Bengaluru   \n",
       "4                                               Other   \n",
       "5                                              Mumbai   \n",
       "6                          Mumbai, Thane, Navi Mumbai   \n",
       "7                                              Mumbai   \n",
       "8                  Pune, Chennai, Bangalore/Bengaluru   \n",
       "9   Kolkata, Gurgaon/Gurugram, Bangalore/Bengaluru...   \n",
       "10  Noida, Hyderabad/Secunderabad, Bangalore/Benga...   \n",
       "11                             Hyderabad/Secunderabad   \n",
       "12                             Hyderabad/Secunderabad   \n",
       "13  Noida, Hyderabad/Secunderabad, Bangalore/Benga...   \n",
       "14  Noida, Hyderabad/Secunderabad, Bangalore/Benga...   \n",
       "15                                Bangalore/Bengaluru   \n",
       "16                                Bangalore/Bengaluru   \n",
       "17                                            Chennai   \n",
       "18                                Bangalore/Bengaluru   \n",
       "19               Chandigarh, Pune, Mumbai (All Areas)   \n",
       "\n",
       "                                    COMPANY  \\\n",
       "0               TVS CREDIT SERVICES LIMITED   \n",
       "1                                  CES Ltd.   \n",
       "2                                  CES Ltd.   \n",
       "3   GlaxoSmithKline Pharmaceuticals Limited   \n",
       "4                 Walmart Global Tech India   \n",
       "5                         VIAPROM Analytics   \n",
       "6             Datamatics Business Solutions   \n",
       "7                         Fractal Analytics   \n",
       "8                Vijaya Management Services   \n",
       "9                                   Nielsen   \n",
       "10                   IBM India Pvt. Limited   \n",
       "11                                  Invesco   \n",
       "12                            Tide Software   \n",
       "13                   IBM India Pvt. Limited   \n",
       "14                   IBM India Pvt. Limited   \n",
       "15             Wrackle Technologies Pvt Ltd   \n",
       "16             Wrackle Technologies Pvt Ltd   \n",
       "17                           PFIZER LIMITED   \n",
       "18                       Scienaptic Systems   \n",
       "19                     eClerx Services Ltd.   \n",
       "\n",
       "                                          DESCRIPTION  \n",
       "0   Experience in working with large data sets and...  \n",
       "1   Must be extremely detail and technology-orient...  \n",
       "2   Must be extremely detail and technology-orient...  \n",
       "3   A higher degree (PhD preferred) in Engineering...  \n",
       "4   This is an exciting opportunity for you to inn...  \n",
       "5   Extensive experience in Machine learning algor...  \n",
       "6   Artificial Intelligence and Machine Learning e...  \n",
       "7   Ability to understand client requirements, des...  \n",
       "8   3+ years practical experience with advanced ma...  \n",
       "9   Masters degree in Economics, Mathematics, Stat...  \n",
       "10  Required Technical and Professional ExpertiseP...  \n",
       "11  Job SummaryWere a leading independent investme...  \n",
       "12  Youve expertise preferably with Python or othe...  \n",
       "13  Should have hired and nurtured talent and grow...  \n",
       "14  Should have hired and nurtured talent and grow...  \n",
       "15  BS / MS/PhD in Computer Science, Statistics, A...  \n",
       "16  BS/ MS/ PhD in Computer Science, Statistics, A...  \n",
       "17  Provide project management leadership to DM te...  \n",
       "18  Responsibilities and duties Focus on developin...  \n",
       "19  Should be willing to work in shifts (APJ, EME ...  "
      ]
     },
     "execution_count": 19,
     "metadata": {},
     "output_type": "execute_result"
    }
   ],
   "source": [
    "jobs"
   ]
  },
  {
   "cell_type": "code",
   "execution_count": 20,
   "metadata": {},
   "outputs": [],
   "source": [
    "driver.close()"
   ]
  },
  {
   "cell_type": "raw",
   "metadata": {},
   "source": [
    "Q8. Scrape the details of Highest selling novels.\n",
    "Url = https://www.theguardian.com/news/datablog/2012/aug/09/best-selling-books-all-time-fifty-shades-grey-compare/\n",
    "You have to find the following details:\n",
    "A) Book name\n",
    "B) Author name\n",
    "C) Volumes sold\n",
    "D) Publisher\n",
    "E) Genre"
   ]
  },
  {
   "cell_type": "code",
   "execution_count": 21,
   "metadata": {},
   "outputs": [],
   "source": [
    "import selenium\n",
    "import pandas as pd\n",
    "from selenium import webdriver"
   ]
  },
  {
   "cell_type": "code",
   "execution_count": 22,
   "metadata": {},
   "outputs": [],
   "source": [
    "#connecting to webdriver\n",
    "driver = webdriver.Chrome(r\"C://chromedriver.exe\")"
   ]
  },
  {
   "cell_type": "code",
   "execution_count": 23,
   "metadata": {},
   "outputs": [],
   "source": [
    "driver.get(\"https://www.theguardian.com/news/datablog/2012/aug/09/best-selling-books-all-time-fifty-shades-grey-compare\")"
   ]
  },
  {
   "cell_type": "code",
   "execution_count": 24,
   "metadata": {},
   "outputs": [],
   "source": [
    "url = 'https://www.theguardian.com/news/datablog/2012/aug/09/best-selling-books-all-time-fifty-shades-grey-compare'"
   ]
  },
  {
   "cell_type": "code",
   "execution_count": 25,
   "metadata": {},
   "outputs": [],
   "source": [
    "driver.get(url)"
   ]
  },
  {
   "cell_type": "code",
   "execution_count": 26,
   "metadata": {},
   "outputs": [],
   "source": [
    "Table = []"
   ]
  },
  {
   "cell_type": "code",
   "execution_count": 35,
   "metadata": {},
   "outputs": [
    {
     "data": {
      "text/plain": [
       "[<selenium.webdriver.remote.webelement.WebElement (session=\"a9c79c1e731dde0012d607bfdd47a7d9\", element=\"b1c7ba3f-3cd2-49f5-89c1-66b31b6a5e73\")>]"
      ]
     },
     "execution_count": 35,
     "metadata": {},
     "output_type": "execute_result"
    }
   ],
   "source": [
    "table_tags = driver.find_elements_by_xpath (\"//table[@class = 'in-article sortable']\")\n",
    "table_tags [0:10]"
   ]
  },
  {
   "cell_type": "code",
   "execution_count": 36,
   "metadata": {},
   "outputs": [
    {
     "data": {
      "text/plain": [
       "['Top 100 best selling books of all time\\nUK sales only. Click heading to sort table. Download this data\\nRank\\nTitle\\nAuthor\\nVolume Sales\\nPublisher\\nGenre\\nSOURCE: NIELSEN BOOK SCAN\\n1 Da Vinci Code,The Brown, Dan 5,094,805 Transworld Crime, Thriller & Adventure\\n2 Harry Potter and the Deathly Hallows Rowling, J.K. 4,475,152 Bloomsbury Children\\'s Fiction\\n3 Harry Potter and the Philosopher\\'s Stone Rowling, J.K. 4,200,654 Bloomsbury Children\\'s Fiction\\n4 Harry Potter and the Order of the Phoenix Rowling, J.K. 4,179,479 Bloomsbury Children\\'s Fiction\\n5 Fifty Shades of Grey James, E. L. 3,758,936 Random House Romance & Sagas\\n6 Harry Potter and the Goblet of Fire Rowling, J.K. 3,583,215 Bloomsbury Children\\'s Fiction\\n7 Harry Potter and the Chamber of Secrets Rowling, J.K. 3,484,047 Bloomsbury Children\\'s Fiction\\n8 Harry Potter and the Prisoner of Azkaban Rowling, J.K. 3,377,906 Bloomsbury Children\\'s Fiction\\n9 Angels and Demons Brown, Dan 3,193,946 Transworld Crime, Thriller & Adventure\\n10 Harry Potter and the Half-blood Prince:Children\\'s Edition Rowling, J.K. 2,950,264 Bloomsbury Children\\'s Fiction\\n11 Fifty Shades Darker James, E. L. 2,479,784 Random House Romance & Sagas\\n12 Twilight Meyer, Stephenie 2,315,405 Little, Brown Book Young Adult Fiction\\n13 Girl with the Dragon Tattoo,The:Millennium Trilogy Larsson, Stieg 2,233,570 Quercus Crime, Thriller & Adventure\\n14 Fifty Shades Freed James, E. L. 2,193,928 Random House Romance & Sagas\\n15 Lost Symbol,The Brown, Dan 2,183,031 Transworld Crime, Thriller & Adventure\\n16 New Moon Meyer, Stephenie 2,152,737 Little, Brown Book Young Adult Fiction\\n17 Deception Point Brown, Dan 2,062,145 Transworld Crime, Thriller & Adventure\\n18 Eclipse Meyer, Stephenie 2,052,876 Little, Brown Book Young Adult Fiction\\n19 Lovely Bones,The Sebold, Alice 2,005,598 Pan Macmillan General & Literary Fiction\\n20 Curious Incident of the Dog in the Night-time,The Haddon, Mark 1,979,552 Random House General & Literary Fiction\\n21 Digital Fortress Brown, Dan 1,928,900 Transworld Crime, Thriller & Adventure\\n22 Short History of Nearly Everything,A Bryson, Bill 1,852,919 Transworld Popular Science\\n23 Girl Who Played with Fire,The:Millennium Trilogy Larsson, Stieg 1,814,784 Quercus Crime, Thriller & Adventure\\n24 Breaking Dawn Meyer, Stephenie 1,787,118 Little, Brown Book Young Adult Fiction\\n25 Very Hungry Caterpillar,The:The Very Hungry Caterpillar Carle, Eric 1,783,535 Penguin Picture Books\\n26 Gruffalo,The Donaldson, Julia 1,781,269 Pan Macmillan Picture Books\\n27 Jamie\\'s 30-Minute Meals Oliver, Jamie 1,743,266 Penguin Food & Drink: General\\n28 Kite Runner,The Hosseini, Khaled 1,629,119 Bloomsbury General & Literary Fiction\\n29 One Day Nicholls, David 1,616,068 Hodder & Stoughton General & Literary Fiction\\n30 Thousand Splendid Suns,A Hosseini, Khaled 1,583,992 Bloomsbury General & Literary Fiction\\n31 Girl Who Kicked the Hornets\\' Nest,The:Millennium Trilogy Larsson, Stieg 1,555,135 Quercus Crime, Thriller & Adventure\\n32 Time Traveler\\'s Wife,The Niffenegger, Audrey 1,546,886 Random House General & Literary Fiction\\n33 Atonement McEwan, Ian 1,539,428 Random House General & Literary Fiction\\n34 Bridget Jones\\'s Diary:A Novel Fielding, Helen 1,508,205 Pan Macmillan General & Literary Fiction\\n35 World According to Clarkson,The Clarkson, Jeremy 1,489,403 Penguin Humour: Collections & General\\n36 Captain Corelli\\'s Mandolin Bernieres, Louis de 1,352,318 Random House General & Literary Fiction\\n37 Sound of Laughter,The Kay, Peter 1,310,207 Random House Autobiography: General\\n38 Life of Pi Martel, Yann 1,310,176 Canongate General & Literary Fiction\\n39 Billy Connolly Stephenson, Pamela 1,231,957 HarperCollins Biography: The Arts\\n40 Child Called It,A Pelzer, Dave 1,217,712 Orion Autobiography: General\\n41 Gruffalo\\'s Child,The Donaldson, Julia 1,208,711 Pan Macmillan Picture Books\\n42 Angela\\'s Ashes:A Memoir of a Childhood McCourt, Frank 1,204,058 HarperCollins Autobiography: General\\n43 Birdsong Faulks, Sebastian 1,184,967 Random House General & Literary Fiction\\n44 Northern Lights:His Dark Materials S. Pullman, Philip 1,181,503 Scholastic Ltd. Young Adult Fiction\\n45 Labyrinth Mosse, Kate 1,181,093 Orion General & Literary Fiction\\n46 Harry Potter and the Half-blood Prince Rowling, J.K. 1,153,181 Bloomsbury Science Fiction & Fantasy\\n47 Help,The Stockett, Kathryn 1,132,336 Penguin General & Literary Fiction\\n48 Man and Boy Parsons, Tony 1,130,802 HarperCollins General & Literary Fiction\\n49 Memoirs of a Geisha Golden, Arthur 1,126,337 Random House General & Literary Fiction\\n50 No.1 Ladies\\' Detective Agency,The:No.1 Ladies\\' Detective Agency S. McCall Smith, Alexander 1,115,549 Little, Brown Book Crime, Thriller & Adventure\\n51 Island,The Hislop, Victoria 1,108,328 Headline General & Literary Fiction\\n52 PS, I Love You Ahern, Cecelia 1,107,379 HarperCollins General & Literary Fiction\\n53 You are What You Eat:The Plan That Will Change Your Life McKeith, Gillian 1,104,403 Penguin Fitness & Diet\\n54 Shadow of the Wind,The Zafon, Carlos Ruiz 1,092,349 Orion General & Literary Fiction\\n55 Tales of Beedle the Bard,The Rowling, J.K. 1,090,847 Bloomsbury Children\\'s Fiction\\n56 Broker,The Grisham, John 1,087,262 Random House Crime, Thriller & Adventure\\n57 Dr. Atkins\\' New Diet Revolution:The No-hunger, Luxurious Weight Loss P Atkins, Robert C. 1,054,196 Random House Fitness & Diet\\n58 Subtle Knife,The:His Dark Materials S. Pullman, Philip 1,037,160 Scholastic Ltd. Young Adult Fiction\\n59 Eats, Shoots and Leaves:The Zero Tolerance Approach to Punctuation Truss, Lynne 1,023,688 Profile Books Group Usage & Writing Guides\\n60 Delia\\'s How to Cook:(Bk.1) Smith, Delia 1,015,956 Random House Food & Drink: General\\n61 Chocolat Harris, Joanne 1,009,873 Transworld General & Literary Fiction\\n62 Boy in the Striped Pyjamas,The Boyne, John 1,004,414 Random House Childrens Books G Young Adult Fiction\\n63 My Sister\\'s Keeper Picoult, Jodi 1,003,780 Hodder & Stoughton General & Literary Fiction\\n64 Amber Spyglass,The:His Dark Materials S. Pullman, Philip 1,002,314 Scholastic Ltd. Young Adult Fiction\\n65 To Kill a Mockingbird Lee, Harper 998,213 Random House General & Literary Fiction\\n66 Men are from Mars, Women are from Venus:A Practical Guide for Improvin Gray, John 992,846 HarperCollins Popular Culture & Media: General Interest\\n67 Dear Fatty French, Dawn 986,753 Random House Autobiography: The Arts\\n68 Short History of Tractors in Ukrainian,A Lewycka, Marina 986,115 Penguin General & Literary Fiction\\n69 Hannibal Harris, Thomas 970,509 Random House Crime, Thriller & Adventure\\n70 Lord of the Rings,The Tolkien, J. R. R. 967,466 HarperCollins Science Fiction & Fantasy\\n71 Stupid White Men:...and Other Sorry Excuses for the State of the Natio Moore, Michael 963,353 Penguin Current Affairs & Issues\\n72 Interpretation of Murder,The Rubenfeld, Jed 962,515 Headline Crime, Thriller & Adventure\\n73 Sharon Osbourne Extreme:My Autobiography Osbourne, Sharon 959,496 Little, Brown Book Autobiography: The Arts\\n74 Alchemist,The:A Fable About Following Your Dream Coelho, Paulo 956,114 HarperCollins General & Literary Fiction\\n75 At My Mother\\'s Knee ...:and Other Low Joints O\\'Grady, Paul 945,640 Transworld Autobiography: The Arts\\n76 Notes from a Small Island Bryson, Bill 931,312 Transworld Travel Writing\\n77 Return of the Naked Chef,The Oliver, Jamie 925,425 Penguin Food & Drink: General\\n78 Bridget Jones: The Edge of Reason Fielding, Helen 924,695 Pan Macmillan General & Literary Fiction\\n79 Jamie\\'s Italy Oliver, Jamie 906,968 Penguin National & Regional Cuisine\\n80 I Can Make You Thin McKenna, Paul 905,086 Transworld Fitness & Diet\\n81 Down Under Bryson, Bill 890,847 Transworld Travel Writing\\n82 Summons,The Grisham, John 869,671 Random House Crime, Thriller & Adventure\\n83 Small Island Levy, Andrea 869,659 Headline General & Literary Fiction\\n84 Nigella Express Lawson, Nigella 862,602 Random House Food & Drink: General\\n85 Brick Lane Ali, Monica 856,540 Transworld General & Literary Fiction\\n86 Memory Keeper\\'s Daughter,The Edwards, Kim 845,858 Penguin General & Literary Fiction\\n87 Room on the Broom Donaldson, Julia 842,535 Pan Macmillan Picture Books\\n88 About a Boy Hornby, Nick 828,215 Penguin General & Literary Fiction\\n89 My Booky Wook Brand, Russell 820,563 Hodder & Stoughton Autobiography: The Arts\\n90 God Delusion,The Dawkins, Richard 816,907 Transworld Popular Science\\n91 \"Beano\" Annual,The 0 816,585 D.C. Thomson Children\\'s Annuals\\n92 White Teeth Smith, Zadie 815,586 Penguin General & Literary Fiction\\n93 House at Riverton,The Morton, Kate 814,370 Pan Macmillan General & Literary Fiction\\n94 Book Thief,The Zusak, Markus 809,641 Transworld General & Literary Fiction\\n95 Nights of Rain and Stars Binchy, Maeve 808,900 Orion General & Literary Fiction\\n96 Ghost,The Harris, Robert 807,311 Random House General & Literary Fiction\\n97 Happy Days with the Naked Chef Oliver, Jamie 794,201 Penguin Food & Drink: General\\n98 Hunger Games,The:Hunger Games Trilogy Collins, Suzanne 792,187 Scholastic Ltd. Young Adult Fiction\\n99 Lost Boy,The:A Foster Child\\'s Search for the Love of a Family Pelzer, Dave 791,507 Orion Biography: General\\n100 Jamie\\'s Ministry of Food:Anyone Can Learn to Cook in 24 Hours Oliver, Jamie 791,095 Penguin Food & Drink: General',\n",
       " 'Top 100 best selling books of all time\\nUK sales only. Click heading to sort table. Download this data\\nRank\\nTitle\\nAuthor\\nVolume Sales\\nPublisher\\nGenre\\nSOURCE: NIELSEN BOOK SCAN\\n1 Da Vinci Code,The Brown, Dan 5,094,805 Transworld Crime, Thriller & Adventure\\n2 Harry Potter and the Deathly Hallows Rowling, J.K. 4,475,152 Bloomsbury Children\\'s Fiction\\n3 Harry Potter and the Philosopher\\'s Stone Rowling, J.K. 4,200,654 Bloomsbury Children\\'s Fiction\\n4 Harry Potter and the Order of the Phoenix Rowling, J.K. 4,179,479 Bloomsbury Children\\'s Fiction\\n5 Fifty Shades of Grey James, E. L. 3,758,936 Random House Romance & Sagas\\n6 Harry Potter and the Goblet of Fire Rowling, J.K. 3,583,215 Bloomsbury Children\\'s Fiction\\n7 Harry Potter and the Chamber of Secrets Rowling, J.K. 3,484,047 Bloomsbury Children\\'s Fiction\\n8 Harry Potter and the Prisoner of Azkaban Rowling, J.K. 3,377,906 Bloomsbury Children\\'s Fiction\\n9 Angels and Demons Brown, Dan 3,193,946 Transworld Crime, Thriller & Adventure\\n10 Harry Potter and the Half-blood Prince:Children\\'s Edition Rowling, J.K. 2,950,264 Bloomsbury Children\\'s Fiction\\n11 Fifty Shades Darker James, E. L. 2,479,784 Random House Romance & Sagas\\n12 Twilight Meyer, Stephenie 2,315,405 Little, Brown Book Young Adult Fiction\\n13 Girl with the Dragon Tattoo,The:Millennium Trilogy Larsson, Stieg 2,233,570 Quercus Crime, Thriller & Adventure\\n14 Fifty Shades Freed James, E. L. 2,193,928 Random House Romance & Sagas\\n15 Lost Symbol,The Brown, Dan 2,183,031 Transworld Crime, Thriller & Adventure\\n16 New Moon Meyer, Stephenie 2,152,737 Little, Brown Book Young Adult Fiction\\n17 Deception Point Brown, Dan 2,062,145 Transworld Crime, Thriller & Adventure\\n18 Eclipse Meyer, Stephenie 2,052,876 Little, Brown Book Young Adult Fiction\\n19 Lovely Bones,The Sebold, Alice 2,005,598 Pan Macmillan General & Literary Fiction\\n20 Curious Incident of the Dog in the Night-time,The Haddon, Mark 1,979,552 Random House General & Literary Fiction\\n21 Digital Fortress Brown, Dan 1,928,900 Transworld Crime, Thriller & Adventure\\n22 Short History of Nearly Everything,A Bryson, Bill 1,852,919 Transworld Popular Science\\n23 Girl Who Played with Fire,The:Millennium Trilogy Larsson, Stieg 1,814,784 Quercus Crime, Thriller & Adventure\\n24 Breaking Dawn Meyer, Stephenie 1,787,118 Little, Brown Book Young Adult Fiction\\n25 Very Hungry Caterpillar,The:The Very Hungry Caterpillar Carle, Eric 1,783,535 Penguin Picture Books\\n26 Gruffalo,The Donaldson, Julia 1,781,269 Pan Macmillan Picture Books\\n27 Jamie\\'s 30-Minute Meals Oliver, Jamie 1,743,266 Penguin Food & Drink: General\\n28 Kite Runner,The Hosseini, Khaled 1,629,119 Bloomsbury General & Literary Fiction\\n29 One Day Nicholls, David 1,616,068 Hodder & Stoughton General & Literary Fiction\\n30 Thousand Splendid Suns,A Hosseini, Khaled 1,583,992 Bloomsbury General & Literary Fiction\\n31 Girl Who Kicked the Hornets\\' Nest,The:Millennium Trilogy Larsson, Stieg 1,555,135 Quercus Crime, Thriller & Adventure\\n32 Time Traveler\\'s Wife,The Niffenegger, Audrey 1,546,886 Random House General & Literary Fiction\\n33 Atonement McEwan, Ian 1,539,428 Random House General & Literary Fiction\\n34 Bridget Jones\\'s Diary:A Novel Fielding, Helen 1,508,205 Pan Macmillan General & Literary Fiction\\n35 World According to Clarkson,The Clarkson, Jeremy 1,489,403 Penguin Humour: Collections & General\\n36 Captain Corelli\\'s Mandolin Bernieres, Louis de 1,352,318 Random House General & Literary Fiction\\n37 Sound of Laughter,The Kay, Peter 1,310,207 Random House Autobiography: General\\n38 Life of Pi Martel, Yann 1,310,176 Canongate General & Literary Fiction\\n39 Billy Connolly Stephenson, Pamela 1,231,957 HarperCollins Biography: The Arts\\n40 Child Called It,A Pelzer, Dave 1,217,712 Orion Autobiography: General\\n41 Gruffalo\\'s Child,The Donaldson, Julia 1,208,711 Pan Macmillan Picture Books\\n42 Angela\\'s Ashes:A Memoir of a Childhood McCourt, Frank 1,204,058 HarperCollins Autobiography: General\\n43 Birdsong Faulks, Sebastian 1,184,967 Random House General & Literary Fiction\\n44 Northern Lights:His Dark Materials S. Pullman, Philip 1,181,503 Scholastic Ltd. Young Adult Fiction\\n45 Labyrinth Mosse, Kate 1,181,093 Orion General & Literary Fiction\\n46 Harry Potter and the Half-blood Prince Rowling, J.K. 1,153,181 Bloomsbury Science Fiction & Fantasy\\n47 Help,The Stockett, Kathryn 1,132,336 Penguin General & Literary Fiction\\n48 Man and Boy Parsons, Tony 1,130,802 HarperCollins General & Literary Fiction\\n49 Memoirs of a Geisha Golden, Arthur 1,126,337 Random House General & Literary Fiction\\n50 No.1 Ladies\\' Detective Agency,The:No.1 Ladies\\' Detective Agency S. McCall Smith, Alexander 1,115,549 Little, Brown Book Crime, Thriller & Adventure\\n51 Island,The Hislop, Victoria 1,108,328 Headline General & Literary Fiction\\n52 PS, I Love You Ahern, Cecelia 1,107,379 HarperCollins General & Literary Fiction\\n53 You are What You Eat:The Plan That Will Change Your Life McKeith, Gillian 1,104,403 Penguin Fitness & Diet\\n54 Shadow of the Wind,The Zafon, Carlos Ruiz 1,092,349 Orion General & Literary Fiction\\n55 Tales of Beedle the Bard,The Rowling, J.K. 1,090,847 Bloomsbury Children\\'s Fiction\\n56 Broker,The Grisham, John 1,087,262 Random House Crime, Thriller & Adventure\\n57 Dr. Atkins\\' New Diet Revolution:The No-hunger, Luxurious Weight Loss P Atkins, Robert C. 1,054,196 Random House Fitness & Diet\\n58 Subtle Knife,The:His Dark Materials S. Pullman, Philip 1,037,160 Scholastic Ltd. Young Adult Fiction\\n59 Eats, Shoots and Leaves:The Zero Tolerance Approach to Punctuation Truss, Lynne 1,023,688 Profile Books Group Usage & Writing Guides\\n60 Delia\\'s How to Cook:(Bk.1) Smith, Delia 1,015,956 Random House Food & Drink: General\\n61 Chocolat Harris, Joanne 1,009,873 Transworld General & Literary Fiction\\n62 Boy in the Striped Pyjamas,The Boyne, John 1,004,414 Random House Childrens Books G Young Adult Fiction\\n63 My Sister\\'s Keeper Picoult, Jodi 1,003,780 Hodder & Stoughton General & Literary Fiction\\n64 Amber Spyglass,The:His Dark Materials S. Pullman, Philip 1,002,314 Scholastic Ltd. Young Adult Fiction\\n65 To Kill a Mockingbird Lee, Harper 998,213 Random House General & Literary Fiction\\n66 Men are from Mars, Women are from Venus:A Practical Guide for Improvin Gray, John 992,846 HarperCollins Popular Culture & Media: General Interest\\n67 Dear Fatty French, Dawn 986,753 Random House Autobiography: The Arts\\n68 Short History of Tractors in Ukrainian,A Lewycka, Marina 986,115 Penguin General & Literary Fiction\\n69 Hannibal Harris, Thomas 970,509 Random House Crime, Thriller & Adventure\\n70 Lord of the Rings,The Tolkien, J. R. R. 967,466 HarperCollins Science Fiction & Fantasy\\n71 Stupid White Men:...and Other Sorry Excuses for the State of the Natio Moore, Michael 963,353 Penguin Current Affairs & Issues\\n72 Interpretation of Murder,The Rubenfeld, Jed 962,515 Headline Crime, Thriller & Adventure\\n73 Sharon Osbourne Extreme:My Autobiography Osbourne, Sharon 959,496 Little, Brown Book Autobiography: The Arts\\n74 Alchemist,The:A Fable About Following Your Dream Coelho, Paulo 956,114 HarperCollins General & Literary Fiction\\n75 At My Mother\\'s Knee ...:and Other Low Joints O\\'Grady, Paul 945,640 Transworld Autobiography: The Arts\\n76 Notes from a Small Island Bryson, Bill 931,312 Transworld Travel Writing\\n77 Return of the Naked Chef,The Oliver, Jamie 925,425 Penguin Food & Drink: General\\n78 Bridget Jones: The Edge of Reason Fielding, Helen 924,695 Pan Macmillan General & Literary Fiction\\n79 Jamie\\'s Italy Oliver, Jamie 906,968 Penguin National & Regional Cuisine\\n80 I Can Make You Thin McKenna, Paul 905,086 Transworld Fitness & Diet\\n81 Down Under Bryson, Bill 890,847 Transworld Travel Writing\\n82 Summons,The Grisham, John 869,671 Random House Crime, Thriller & Adventure\\n83 Small Island Levy, Andrea 869,659 Headline General & Literary Fiction\\n84 Nigella Express Lawson, Nigella 862,602 Random House Food & Drink: General\\n85 Brick Lane Ali, Monica 856,540 Transworld General & Literary Fiction\\n86 Memory Keeper\\'s Daughter,The Edwards, Kim 845,858 Penguin General & Literary Fiction\\n87 Room on the Broom Donaldson, Julia 842,535 Pan Macmillan Picture Books\\n88 About a Boy Hornby, Nick 828,215 Penguin General & Literary Fiction\\n89 My Booky Wook Brand, Russell 820,563 Hodder & Stoughton Autobiography: The Arts\\n90 God Delusion,The Dawkins, Richard 816,907 Transworld Popular Science\\n91 \"Beano\" Annual,The 0 816,585 D.C. Thomson Children\\'s Annuals\\n92 White Teeth Smith, Zadie 815,586 Penguin General & Literary Fiction\\n93 House at Riverton,The Morton, Kate 814,370 Pan Macmillan General & Literary Fiction\\n94 Book Thief,The Zusak, Markus 809,641 Transworld General & Literary Fiction\\n95 Nights of Rain and Stars Binchy, Maeve 808,900 Orion General & Literary Fiction\\n96 Ghost,The Harris, Robert 807,311 Random House General & Literary Fiction\\n97 Happy Days with the Naked Chef Oliver, Jamie 794,201 Penguin Food & Drink: General\\n98 Hunger Games,The:Hunger Games Trilogy Collins, Suzanne 792,187 Scholastic Ltd. Young Adult Fiction\\n99 Lost Boy,The:A Foster Child\\'s Search for the Love of a Family Pelzer, Dave 791,507 Orion Biography: General\\n100 Jamie\\'s Ministry of Food:Anyone Can Learn to Cook in 24 Hours Oliver, Jamie 791,095 Penguin Food & Drink: General']"
      ]
     },
     "execution_count": 36,
     "metadata": {},
     "output_type": "execute_result"
    }
   ],
   "source": [
    "for i in  table_tags:\n",
    "    tables = i.text\n",
    "    Table.append(tables)\n",
    "Table [0:10]"
   ]
  },
  {
   "cell_type": "code",
   "execution_count": 37,
   "metadata": {},
   "outputs": [
    {
     "name": "stdout",
     "output_type": "stream",
     "text": [
      "2\n"
     ]
    }
   ],
   "source": [
    "print (len (Table))"
   ]
  },
  {
   "cell_type": "code",
   "execution_count": 38,
   "metadata": {},
   "outputs": [],
   "source": [
    "#importing pandas\n",
    "Book_Selling = pd.DataFrame ({})\n",
    "Book_Selling ['TABLE'] = Table"
   ]
  },
  {
   "cell_type": "code",
   "execution_count": 39,
   "metadata": {},
   "outputs": [
    {
     "ename": "SyntaxError",
     "evalue": "invalid syntax (<ipython-input-39-8de96a670d47>, line 1)",
     "output_type": "error",
     "traceback": [
      "\u001b[1;36m  File \u001b[1;32m\"<ipython-input-39-8de96a670d47>\"\u001b[1;36m, line \u001b[1;32m1\u001b[0m\n\u001b[1;33m    Book Selling\u001b[0m\n\u001b[1;37m               ^\u001b[0m\n\u001b[1;31mSyntaxError\u001b[0m\u001b[1;31m:\u001b[0m invalid syntax\n"
     ]
    }
   ],
   "source": [
    "Book Selling"
   ]
  },
  {
   "cell_type": "code",
   "execution_count": 40,
   "metadata": {},
   "outputs": [],
   "source": [
    "driver.close ()"
   ]
  },
  {
   "cell_type": "raw",
   "metadata": {},
   "source": [
    "Q9. Scrape the details most watched tv series of all time from imdb.com.\n",
    "Url = https://www.imdb.com/list/ls095964455/\n",
    "You have to find the following details:\n",
    "A) Name\n",
    "B) Year span\n",
    "C) Genre\n",
    "D) Run time\n",
    "E) Ratings\n",
    "F) Votes"
   ]
  },
  {
   "cell_type": "code",
   "execution_count": 64,
   "metadata": {},
   "outputs": [],
   "source": [
    "# Importing Libraries\n",
    "import pandas as pd\n",
    "from bs4 import BeautifulSoup\n",
    "import requests\n",
    "import time"
   ]
  },
  {
   "cell_type": "code",
   "execution_count": 71,
   "metadata": {},
   "outputs": [
    {
     "name": "stdout",
     "output_type": "stream",
     "text": [
      "                     names        years                ratings  \\\n",
      "0          Game of Thrones  (2011–2019)  \\n\\n\\n\\n\\n\\n\\n\\n9.3\\n   \n",
      "1                  loading     (2016– )  \\n\\n\\n\\n\\n\\n\\n\\n8.7\\n   \n",
      "2          Stranger Things  (2010–2022)  \\n\\n\\n\\n\\n\\n\\n\\n8.2\\n   \n",
      "3                  loading  (2017–2020)  \\n\\n\\n\\n\\n\\n\\n\\n7.6\\n   \n",
      "4         The Walking Dead  (2014–2020)  \\n\\n\\n\\n\\n\\n\\n\\n7.6\\n   \n",
      "..                     ...          ...                    ...   \n",
      "95                 loading  (2013–2017)  \\n\\n\\n\\n\\n\\n\\n\\n7.5\\n   \n",
      "96                New Girl  (2017–2019)  \\n\\n\\n\\n\\n\\n\\n\\n7.8\\n   \n",
      "97                 loading  (2005–2020)  \\n\\n\\n\\n\\n\\n\\n\\n8.1\\n   \n",
      "98  Agents of S.H.I.E.L.D.  (2015–2019)  \\n\\n\\n\\n\\n\\n\\n\\n7.2\\n   \n",
      "99                 loading       (2018)  \\n\\n\\n\\n\\n\\n\\n\\n8.6\\n   \n",
      "\n",
      "                                    genres  runtime  \n",
      "0   \\nAction, Adventure, Drama               57 min  \n",
      "1     \\nDrama, Fantasy, Horror               51 min  \n",
      "2    \\nDrama, Horror, Thriller               44 min  \n",
      "3   \\nDrama, Mystery, Thriller               60 min  \n",
      "4     \\nDrama, Mystery, Sci-Fi               43 min  \n",
      "..                                     ...      ...  \n",
      "95            \\nDrama, Fantasy               42 min  \n",
      "96  \\nAdventure, Comedy, Drama               50 min  \n",
      "97     \\nCrime, Drama, Mystery               42 min  \n",
      "98      \\nComedy, Crime, Drama               45 min  \n",
      "99    \\nDrama, Horror, Mystery              572 min  \n",
      "\n",
      "[100 rows x 5 columns]\n"
     ]
    }
   ],
   "source": [
    "# Function Definition\n",
    "def IMDB_top_100(url):\n",
    "    r=requests.get(url)\n",
    "    soup=BeautifulSoup(r.content,'html.parser')\n",
    "    name=[]\n",
    "    year=[]\n",
    "    rating=[]\n",
    "    genre=[]\n",
    "    runtime=[]\n",
    "    \n",
    "    for i in soup.find_all('img'):\n",
    "        name.append(i.attrs['alt'])\n",
    "    for i in list(soup.find_all('span',attrs={\"lister-item-year text-muted unbold\"})):\n",
    "        year.append(i.text)\n",
    "    for i in soup.find_all('div',attrs={\"ipl-rating-star small\"}):\n",
    "        rating.append(i.text)\n",
    "    for i in list(soup.find_all('span',attrs={\"genre\"})):\n",
    "        genre.append(i.text)\n",
    "    for i in list(soup.find_all('span',attrs={\"runtime\"})):\n",
    "        runtime.append(i.text)\n",
    "        \n",
    "    df=pd.DataFrame({'names':name[:100],\n",
    "                     'years':year[:100],\n",
    "                     'ratings':rating[:100],\n",
    "                    'genres':genre[:100],\n",
    "                    'runtime':runtime[:100]})\n",
    "    print(df)\n",
    "    df.to_csv('IMDB_top_100.csv', index = False)\n",
    "\n",
    "# Calling Function\n",
    "IMDB_top_100(\"https://www.imdb.com/list/ls095964455/\")"
   ]
  },
  {
   "cell_type": "raw",
   "metadata": {},
   "source": [
    "Q10. Details of Datasets from UCI machine learning repositories.\n",
    "Url = https://archive.ics.uci.edu/\n",
    "You have to find the following details:\n",
    "A) Dataset name\n",
    "B) Data type\n",
    "C) Task\n",
    "D) Attribute type\n",
    "E) No of instances\n",
    "F) No of attribute\n",
    "G) Year\n",
    "Note: - from the home page you have to go to the Show All Dataset page through code."
   ]
  },
  {
   "cell_type": "code",
   "execution_count": 72,
   "metadata": {},
   "outputs": [],
   "source": [
    "import selenium\n",
    "import pandas as pd\n",
    "from selenium import webdriver"
   ]
  },
  {
   "cell_type": "code",
   "execution_count": 73,
   "metadata": {},
   "outputs": [],
   "source": [
    "#connecting to webdriver\n",
    "driver = webdriver.Chrome(r\"C://chromedriver.exe\")"
   ]
  },
  {
   "cell_type": "code",
   "execution_count": 74,
   "metadata": {},
   "outputs": [],
   "source": [
    "driver.get(\"https://archive.ics.uci.edu/ml/index.php\")"
   ]
  },
  {
   "cell_type": "code",
   "execution_count": 77,
   "metadata": {},
   "outputs": [],
   "source": [
    "search_btn = driver.find_element_by_xpath(\"//span[@class ='whitetext']\")\n",
    "search_btn.click()"
   ]
  },
  {
   "cell_type": "code",
   "execution_count": 78,
   "metadata": {},
   "outputs": [],
   "source": [
    "url = \"https://archive.ics.uci.edu/ml/index.php\""
   ]
  },
  {
   "cell_type": "code",
   "execution_count": 79,
   "metadata": {},
   "outputs": [],
   "source": [
    "driver.get(url)"
   ]
  },
  {
   "cell_type": "code",
   "execution_count": 80,
   "metadata": {},
   "outputs": [],
   "source": [
    "Table = []"
   ]
  },
  {
   "cell_type": "code",
   "execution_count": 81,
   "metadata": {},
   "outputs": [
    {
     "data": {
      "text/plain": [
       "[<selenium.webdriver.remote.webelement.WebElement (session=\"c7e287f941c40b2c89a22df7b46bbc24\", element=\"91437cd8-37e3-4cf3-9cc9-c7f554a088bf\")>,\n",
       " <selenium.webdriver.remote.webelement.WebElement (session=\"c7e287f941c40b2c89a22df7b46bbc24\", element=\"95a025ca-53b0-4937-963b-16b17aecd19b\")>]"
      ]
     },
     "execution_count": 81,
     "metadata": {},
     "output_type": "execute_result"
    }
   ],
   "source": [
    "table_tags = driver.find_elements_by_xpath (\"//p[@class = 'normal']\")\n",
    "table_tags [0:10]"
   ]
  },
  {
   "cell_type": "code",
   "execution_count": 82,
   "metadata": {},
   "outputs": [
    {
     "data": {
      "text/plain": [
       "['Supported By:', 'In Collaboration With:']"
      ]
     },
     "execution_count": 82,
     "metadata": {},
     "output_type": "execute_result"
    }
   ],
   "source": [
    "for i in  table_tags:\n",
    "    tables = i.text\n",
    "    Table.append(tables)\n",
    "Table [0:10]"
   ]
  },
  {
   "cell_type": "code",
   "execution_count": null,
   "metadata": {},
   "outputs": [],
   "source": []
  }
 ],
 "metadata": {
  "kernelspec": {
   "display_name": "Python 3",
   "language": "python",
   "name": "python3"
  },
  "language_info": {
   "codemirror_mode": {
    "name": "ipython",
    "version": 3
   },
   "file_extension": ".py",
   "mimetype": "text/x-python",
   "name": "python",
   "nbconvert_exporter": "python",
   "pygments_lexer": "ipython3",
   "version": "3.7.6"
  }
 },
 "nbformat": 4,
 "nbformat_minor": 4
}
