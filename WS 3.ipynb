{
 "cells": [
  {
   "cell_type": "raw",
   "metadata": {},
   "source": [
    "Q3. Scrape the details of selenium exception from guru99.com.\n",
    "Url = https://www.guru99.com/\n",
    "You need to find following details:\n",
    "A) Name\n",
    "B) Description\n",
    "Note: - From guru99 home page you have to reach to selenium exception handling page through code."
   ]
  },
  {
   "cell_type": "code",
   "execution_count": 1,
   "metadata": {},
   "outputs": [],
   "source": [
    "import selenium\n",
    "import pandas as pd\n",
    "from selenium import webdriver"
   ]
  },
  {
   "cell_type": "code",
   "execution_count": 2,
   "metadata": {},
   "outputs": [],
   "source": [
    "#connecting to webdriver\n",
    "driver = webdriver.Chrome(r\"C://chromedriver.exe\")"
   ]
  },
  {
   "cell_type": "code",
   "execution_count": 3,
   "metadata": {},
   "outputs": [],
   "source": [
    "driver.get(\"https://www.guru99.com/\")"
   ]
  },
  {
   "cell_type": "code",
   "execution_count": 4,
   "metadata": {},
   "outputs": [],
   "source": [
    "search_job = driver.find_element_by_id ('gsc-i-id2')\n",
    "search_job.send_keys('selenium exception handling')"
   ]
  },
  {
   "cell_type": "code",
   "execution_count": 5,
   "metadata": {},
   "outputs": [
    {
     "ename": "ElementNotInteractableException",
     "evalue": "Message: element not interactable\n  (Session info: chrome=90.0.4430.93)\n",
     "output_type": "error",
     "traceback": [
      "\u001b[1;31m---------------------------------------------------------------------------\u001b[0m",
      "\u001b[1;31mElementNotInteractableException\u001b[0m           Traceback (most recent call last)",
      "\u001b[1;32m<ipython-input-5-260786f68b1f>\u001b[0m in \u001b[0;36m<module>\u001b[1;34m\u001b[0m\n\u001b[0;32m      1\u001b[0m \u001b[0msearch_btn\u001b[0m \u001b[1;33m=\u001b[0m \u001b[0mdriver\u001b[0m\u001b[1;33m.\u001b[0m\u001b[0mfind_element_by_xpath\u001b[0m\u001b[1;33m(\u001b[0m\u001b[1;34m\"//td[@class ='gsc-search-button']/button\"\u001b[0m\u001b[1;33m)\u001b[0m\u001b[1;33m\u001b[0m\u001b[1;33m\u001b[0m\u001b[0m\n\u001b[1;32m----> 2\u001b[1;33m \u001b[0msearch_btn\u001b[0m\u001b[1;33m.\u001b[0m\u001b[0mclick\u001b[0m\u001b[1;33m(\u001b[0m\u001b[1;33m)\u001b[0m\u001b[1;33m\u001b[0m\u001b[1;33m\u001b[0m\u001b[0m\n\u001b[0m",
      "\u001b[1;32m~\\anaconda3\\lib\\site-packages\\selenium\\webdriver\\remote\\webelement.py\u001b[0m in \u001b[0;36mclick\u001b[1;34m(self)\u001b[0m\n\u001b[0;32m     78\u001b[0m     \u001b[1;32mdef\u001b[0m \u001b[0mclick\u001b[0m\u001b[1;33m(\u001b[0m\u001b[0mself\u001b[0m\u001b[1;33m)\u001b[0m\u001b[1;33m:\u001b[0m\u001b[1;33m\u001b[0m\u001b[1;33m\u001b[0m\u001b[0m\n\u001b[0;32m     79\u001b[0m         \u001b[1;34m\"\"\"Clicks the element.\"\"\"\u001b[0m\u001b[1;33m\u001b[0m\u001b[1;33m\u001b[0m\u001b[0m\n\u001b[1;32m---> 80\u001b[1;33m         \u001b[0mself\u001b[0m\u001b[1;33m.\u001b[0m\u001b[0m_execute\u001b[0m\u001b[1;33m(\u001b[0m\u001b[0mCommand\u001b[0m\u001b[1;33m.\u001b[0m\u001b[0mCLICK_ELEMENT\u001b[0m\u001b[1;33m)\u001b[0m\u001b[1;33m\u001b[0m\u001b[1;33m\u001b[0m\u001b[0m\n\u001b[0m\u001b[0;32m     81\u001b[0m \u001b[1;33m\u001b[0m\u001b[0m\n\u001b[0;32m     82\u001b[0m     \u001b[1;32mdef\u001b[0m \u001b[0msubmit\u001b[0m\u001b[1;33m(\u001b[0m\u001b[0mself\u001b[0m\u001b[1;33m)\u001b[0m\u001b[1;33m:\u001b[0m\u001b[1;33m\u001b[0m\u001b[1;33m\u001b[0m\u001b[0m\n",
      "\u001b[1;32m~\\anaconda3\\lib\\site-packages\\selenium\\webdriver\\remote\\webelement.py\u001b[0m in \u001b[0;36m_execute\u001b[1;34m(self, command, params)\u001b[0m\n\u001b[0;32m    631\u001b[0m             \u001b[0mparams\u001b[0m \u001b[1;33m=\u001b[0m \u001b[1;33m{\u001b[0m\u001b[1;33m}\u001b[0m\u001b[1;33m\u001b[0m\u001b[1;33m\u001b[0m\u001b[0m\n\u001b[0;32m    632\u001b[0m         \u001b[0mparams\u001b[0m\u001b[1;33m[\u001b[0m\u001b[1;34m'id'\u001b[0m\u001b[1;33m]\u001b[0m \u001b[1;33m=\u001b[0m \u001b[0mself\u001b[0m\u001b[1;33m.\u001b[0m\u001b[0m_id\u001b[0m\u001b[1;33m\u001b[0m\u001b[1;33m\u001b[0m\u001b[0m\n\u001b[1;32m--> 633\u001b[1;33m         \u001b[1;32mreturn\u001b[0m \u001b[0mself\u001b[0m\u001b[1;33m.\u001b[0m\u001b[0m_parent\u001b[0m\u001b[1;33m.\u001b[0m\u001b[0mexecute\u001b[0m\u001b[1;33m(\u001b[0m\u001b[0mcommand\u001b[0m\u001b[1;33m,\u001b[0m \u001b[0mparams\u001b[0m\u001b[1;33m)\u001b[0m\u001b[1;33m\u001b[0m\u001b[1;33m\u001b[0m\u001b[0m\n\u001b[0m\u001b[0;32m    634\u001b[0m \u001b[1;33m\u001b[0m\u001b[0m\n\u001b[0;32m    635\u001b[0m     \u001b[1;32mdef\u001b[0m \u001b[0mfind_element\u001b[0m\u001b[1;33m(\u001b[0m\u001b[0mself\u001b[0m\u001b[1;33m,\u001b[0m \u001b[0mby\u001b[0m\u001b[1;33m=\u001b[0m\u001b[0mBy\u001b[0m\u001b[1;33m.\u001b[0m\u001b[0mID\u001b[0m\u001b[1;33m,\u001b[0m \u001b[0mvalue\u001b[0m\u001b[1;33m=\u001b[0m\u001b[1;32mNone\u001b[0m\u001b[1;33m)\u001b[0m\u001b[1;33m:\u001b[0m\u001b[1;33m\u001b[0m\u001b[1;33m\u001b[0m\u001b[0m\n",
      "\u001b[1;32m~\\anaconda3\\lib\\site-packages\\selenium\\webdriver\\remote\\webdriver.py\u001b[0m in \u001b[0;36mexecute\u001b[1;34m(self, driver_command, params)\u001b[0m\n\u001b[0;32m    319\u001b[0m         \u001b[0mresponse\u001b[0m \u001b[1;33m=\u001b[0m \u001b[0mself\u001b[0m\u001b[1;33m.\u001b[0m\u001b[0mcommand_executor\u001b[0m\u001b[1;33m.\u001b[0m\u001b[0mexecute\u001b[0m\u001b[1;33m(\u001b[0m\u001b[0mdriver_command\u001b[0m\u001b[1;33m,\u001b[0m \u001b[0mparams\u001b[0m\u001b[1;33m)\u001b[0m\u001b[1;33m\u001b[0m\u001b[1;33m\u001b[0m\u001b[0m\n\u001b[0;32m    320\u001b[0m         \u001b[1;32mif\u001b[0m \u001b[0mresponse\u001b[0m\u001b[1;33m:\u001b[0m\u001b[1;33m\u001b[0m\u001b[1;33m\u001b[0m\u001b[0m\n\u001b[1;32m--> 321\u001b[1;33m             \u001b[0mself\u001b[0m\u001b[1;33m.\u001b[0m\u001b[0merror_handler\u001b[0m\u001b[1;33m.\u001b[0m\u001b[0mcheck_response\u001b[0m\u001b[1;33m(\u001b[0m\u001b[0mresponse\u001b[0m\u001b[1;33m)\u001b[0m\u001b[1;33m\u001b[0m\u001b[1;33m\u001b[0m\u001b[0m\n\u001b[0m\u001b[0;32m    322\u001b[0m             response['value'] = self._unwrap_value(\n\u001b[0;32m    323\u001b[0m                 response.get('value', None))\n",
      "\u001b[1;32m~\\anaconda3\\lib\\site-packages\\selenium\\webdriver\\remote\\errorhandler.py\u001b[0m in \u001b[0;36mcheck_response\u001b[1;34m(self, response)\u001b[0m\n\u001b[0;32m    240\u001b[0m                 \u001b[0malert_text\u001b[0m \u001b[1;33m=\u001b[0m \u001b[0mvalue\u001b[0m\u001b[1;33m[\u001b[0m\u001b[1;34m'alert'\u001b[0m\u001b[1;33m]\u001b[0m\u001b[1;33m.\u001b[0m\u001b[0mget\u001b[0m\u001b[1;33m(\u001b[0m\u001b[1;34m'text'\u001b[0m\u001b[1;33m)\u001b[0m\u001b[1;33m\u001b[0m\u001b[1;33m\u001b[0m\u001b[0m\n\u001b[0;32m    241\u001b[0m             \u001b[1;32mraise\u001b[0m \u001b[0mexception_class\u001b[0m\u001b[1;33m(\u001b[0m\u001b[0mmessage\u001b[0m\u001b[1;33m,\u001b[0m \u001b[0mscreen\u001b[0m\u001b[1;33m,\u001b[0m \u001b[0mstacktrace\u001b[0m\u001b[1;33m,\u001b[0m \u001b[0malert_text\u001b[0m\u001b[1;33m)\u001b[0m\u001b[1;33m\u001b[0m\u001b[1;33m\u001b[0m\u001b[0m\n\u001b[1;32m--> 242\u001b[1;33m         \u001b[1;32mraise\u001b[0m \u001b[0mexception_class\u001b[0m\u001b[1;33m(\u001b[0m\u001b[0mmessage\u001b[0m\u001b[1;33m,\u001b[0m \u001b[0mscreen\u001b[0m\u001b[1;33m,\u001b[0m \u001b[0mstacktrace\u001b[0m\u001b[1;33m)\u001b[0m\u001b[1;33m\u001b[0m\u001b[1;33m\u001b[0m\u001b[0m\n\u001b[0m\u001b[0;32m    243\u001b[0m \u001b[1;33m\u001b[0m\u001b[0m\n\u001b[0;32m    244\u001b[0m     \u001b[1;32mdef\u001b[0m \u001b[0m_value_or_default\u001b[0m\u001b[1;33m(\u001b[0m\u001b[0mself\u001b[0m\u001b[1;33m,\u001b[0m \u001b[0mobj\u001b[0m\u001b[1;33m,\u001b[0m \u001b[0mkey\u001b[0m\u001b[1;33m,\u001b[0m \u001b[0mdefault\u001b[0m\u001b[1;33m)\u001b[0m\u001b[1;33m:\u001b[0m\u001b[1;33m\u001b[0m\u001b[1;33m\u001b[0m\u001b[0m\n",
      "\u001b[1;31mElementNotInteractableException\u001b[0m: Message: element not interactable\n  (Session info: chrome=90.0.4430.93)\n"
     ]
    }
   ],
   "source": [
    "search_btn = driver.find_element_by_xpath(\"//td[@class ='gsc-search-button']/button\")\n",
    "search_btn.click()"
   ]
  },
  {
   "cell_type": "code",
   "execution_count": 5,
   "metadata": {},
   "outputs": [],
   "source": [
    "url = \"https://www.guru99.com/\""
   ]
  },
  {
   "cell_type": "code",
   "execution_count": 6,
   "metadata": {},
   "outputs": [],
   "source": [
    "driver.get(url)"
   ]
  },
  {
   "cell_type": "code",
   "execution_count": 7,
   "metadata": {},
   "outputs": [],
   "source": [
    "name = []\n",
    "description = []"
   ]
  },
  {
   "cell_type": "code",
   "execution_count": 12,
   "metadata": {},
   "outputs": [
    {
     "data": {
      "text/plain": [
       "[]"
      ]
     },
     "execution_count": 12,
     "metadata": {},
     "output_type": "execute_result"
    }
   ],
   "source": [
    "#lets extract name\n",
    "titles_tags = driver.find_elements_by_xpath (\"//a[@class = 'lc_ styleable-title']\")\n",
    "titles_tags [0:10]"
   ]
  },
  {
   "cell_type": "code",
   "execution_count": 13,
   "metadata": {},
   "outputs": [
    {
     "data": {
      "text/plain": [
       "[]"
      ]
     },
     "execution_count": 13,
     "metadata": {},
     "output_type": "execute_result"
    }
   ],
   "source": [
    "for i in  titles_tags:\n",
    "    title = i.text\n",
    "    name.append(title)\n",
    "name [0:10]"
   ]
  },
  {
   "cell_type": "code",
   "execution_count": 14,
   "metadata": {},
   "outputs": [
    {
     "data": {
      "text/plain": [
       "[]"
      ]
     },
     "execution_count": 14,
     "metadata": {},
     "output_type": "execute_result"
    }
   ],
   "source": [
    "#lets extract description\n",
    "descriptions_tags = driver.find_elements_by_xpath (\"//span[@class = 'lc_ styleable-description ']\")\n",
    "descriptions_tags [0:10]"
   ]
  },
  {
   "cell_type": "code",
   "execution_count": 16,
   "metadata": {},
   "outputs": [
    {
     "data": {
      "text/plain": [
       "[]"
      ]
     },
     "execution_count": 16,
     "metadata": {},
     "output_type": "execute_result"
    }
   ],
   "source": [
    "for i in descriptions_tags:\n",
    "    descrpt = i.text\n",
    "    description.append(descrpt)\n",
    "description [0:10]"
   ]
  },
  {
   "cell_type": "code",
   "execution_count": 17,
   "metadata": {},
   "outputs": [
    {
     "name": "stdout",
     "output_type": "stream",
     "text": [
      "0 0\n"
     ]
    }
   ],
   "source": [
    "print (len (name),len (description))"
   ]
  },
  {
   "cell_type": "code",
   "execution_count": 18,
   "metadata": {},
   "outputs": [],
   "source": [
    "#importing pandas\n",
    "selenium = pd.DataFrame ({})\n",
    "selenium ['TITLE'] = name\n",
    "selenium ['DESCRIPTION'] = description"
   ]
  },
  {
   "cell_type": "code",
   "execution_count": null,
   "metadata": {},
   "outputs": [],
   "source": [
    "selenium"
   ]
  },
  {
   "cell_type": "code",
   "execution_count": 19,
   "metadata": {},
   "outputs": [],
   "source": [
    "driver.close()"
   ]
  },
  {
   "cell_type": "raw",
   "metadata": {},
   "source": [
    "Q6. Scrape the details of top 100 songs on billiboard.com.\n",
    "Url = https://www.billboard.com/\n",
    "You have to find the following details:\n",
    "A) Song name\n",
    "B) Artist name\n",
    "C) Last week rank\n",
    "D) Peak rank\n",
    "E) Weeks on board\n",
    "Note: - From the home page you have to click on the charts option then hot 100-page link through code."
   ]
  },
  {
   "cell_type": "code",
   "execution_count": 46,
   "metadata": {},
   "outputs": [],
   "source": [
    "import selenium\n",
    "import pandas as pd\n",
    "from selenium import webdriver"
   ]
  },
  {
   "cell_type": "code",
   "execution_count": 47,
   "metadata": {},
   "outputs": [],
   "source": [
    "driver = webdriver.Chrome(r\"C://chromedriver.exe\")"
   ]
  },
  {
   "cell_type": "code",
   "execution_count": 48,
   "metadata": {},
   "outputs": [],
   "source": [
    "driver.get(\"https://www.billboard.com/\")"
   ]
  },
  {
   "cell_type": "code",
   "execution_count": 49,
   "metadata": {},
   "outputs": [],
   "source": [
    "search_btn = driver.find_element_by_xpath(\"//a[@class ='header__subnav__link text--uppercase font--semi-bold']\")\n",
    "search_btn.click()"
   ]
  },
  {
   "cell_type": "code",
   "execution_count": 50,
   "metadata": {},
   "outputs": [],
   "source": [
    "url = \"https://www.billboard.com/\""
   ]
  },
  {
   "cell_type": "code",
   "execution_count": 51,
   "metadata": {},
   "outputs": [],
   "source": [
    "driver.get(url)"
   ]
  },
  {
   "cell_type": "code",
   "execution_count": 52,
   "metadata": {},
   "outputs": [],
   "source": [
    "song_name = []\n",
    "artist_name = []\n",
    "last_week_rank = []\n",
    "peak_rank = []\n",
    "weeks_onboard = []"
   ]
  },
  {
   "cell_type": "code",
   "execution_count": 53,
   "metadata": {},
   "outputs": [
    {
     "data": {
      "text/plain": [
       "[<selenium.webdriver.remote.webelement.WebElement (session=\"63ab7537b64eda9539ed7e90618bdc6e\", element=\"f0fb10a1-a6f3-4c9d-bcd0-23960be18d1c\")>,\n",
       " <selenium.webdriver.remote.webelement.WebElement (session=\"63ab7537b64eda9539ed7e90618bdc6e\", element=\"afb85c1a-a4a9-4b32-b4df-b77b5a7836f5\")>,\n",
       " <selenium.webdriver.remote.webelement.WebElement (session=\"63ab7537b64eda9539ed7e90618bdc6e\", element=\"6ef03999-6d5e-4565-8412-14da3e7d9e2d\")>,\n",
       " <selenium.webdriver.remote.webelement.WebElement (session=\"63ab7537b64eda9539ed7e90618bdc6e\", element=\"e567efb7-964f-4399-9d88-7a6e0f51bc44\")>,\n",
       " <selenium.webdriver.remote.webelement.WebElement (session=\"63ab7537b64eda9539ed7e90618bdc6e\", element=\"bca5dd10-6638-4c6f-bdb1-699149514163\")>,\n",
       " <selenium.webdriver.remote.webelement.WebElement (session=\"63ab7537b64eda9539ed7e90618bdc6e\", element=\"03439bf0-9458-45ac-a791-ca252e782c5a\")>,\n",
       " <selenium.webdriver.remote.webelement.WebElement (session=\"63ab7537b64eda9539ed7e90618bdc6e\", element=\"e1ad9ed9-909c-4250-993f-2a0a2a0e9114\")>,\n",
       " <selenium.webdriver.remote.webelement.WebElement (session=\"63ab7537b64eda9539ed7e90618bdc6e\", element=\"5e9f8e5b-54e6-440a-ac71-6503ad7b2ab5\")>,\n",
       " <selenium.webdriver.remote.webelement.WebElement (session=\"63ab7537b64eda9539ed7e90618bdc6e\", element=\"ae9f009d-bf79-4f70-adb3-522fecf56117\")>,\n",
       " <selenium.webdriver.remote.webelement.WebElement (session=\"63ab7537b64eda9539ed7e90618bdc6e\", element=\"57a76ebd-e2fb-4338-adb4-4c47dc364086\")>]"
      ]
     },
     "execution_count": 53,
     "metadata": {},
     "output_type": "execute_result"
    }
   ],
   "source": [
    "song_tags = driver.find_elements_by_xpath (\"//span[@class = 'chart-element__information__song text--truncate color--primary']\")\n",
    "song_tags [0:10]"
   ]
  },
  {
   "cell_type": "code",
   "execution_count": 54,
   "metadata": {},
   "outputs": [
    {
     "data": {
      "text/plain": [
       "['Save Your Tears',\n",
       " 'Leave The Door Open',\n",
       " 'Peaches',\n",
       " 'Rapstar',\n",
       " 'Levitating',\n",
       " 'Kiss Me More',\n",
       " 'Montero (Call Me By Your Name)',\n",
       " 'Astronaut In The Ocean',\n",
       " 'Up',\n",
       " 'Drivers License']"
      ]
     },
     "execution_count": 54,
     "metadata": {},
     "output_type": "execute_result"
    }
   ],
   "source": [
    "for i in  song_tags:\n",
    "    songs = i.text\n",
    "    song_name.append(songs)\n",
    "song_name [0:10]"
   ]
  },
  {
   "cell_type": "code",
   "execution_count": 55,
   "metadata": {},
   "outputs": [
    {
     "data": {
      "text/plain": [
       "[<selenium.webdriver.remote.webelement.WebElement (session=\"63ab7537b64eda9539ed7e90618bdc6e\", element=\"d5ac6373-eea7-4b54-9c67-8d39e9657b6d\")>,\n",
       " <selenium.webdriver.remote.webelement.WebElement (session=\"63ab7537b64eda9539ed7e90618bdc6e\", element=\"d97d5b68-1e2c-483d-8706-096115b0df75\")>,\n",
       " <selenium.webdriver.remote.webelement.WebElement (session=\"63ab7537b64eda9539ed7e90618bdc6e\", element=\"ddb8e087-ef5c-44a8-8f53-34345432cc3e\")>,\n",
       " <selenium.webdriver.remote.webelement.WebElement (session=\"63ab7537b64eda9539ed7e90618bdc6e\", element=\"9244093b-3edb-4fae-9ddd-d4055fe0ea12\")>,\n",
       " <selenium.webdriver.remote.webelement.WebElement (session=\"63ab7537b64eda9539ed7e90618bdc6e\", element=\"88d27f37-0a4e-47fc-8299-465b73da5ba0\")>,\n",
       " <selenium.webdriver.remote.webelement.WebElement (session=\"63ab7537b64eda9539ed7e90618bdc6e\", element=\"20915fa6-61c6-40ef-88fc-53d678a17192\")>,\n",
       " <selenium.webdriver.remote.webelement.WebElement (session=\"63ab7537b64eda9539ed7e90618bdc6e\", element=\"e35fdbc0-8e1a-4c13-a497-0823336629c0\")>,\n",
       " <selenium.webdriver.remote.webelement.WebElement (session=\"63ab7537b64eda9539ed7e90618bdc6e\", element=\"ae0f4596-2315-4bd5-8896-cc56402c3676\")>,\n",
       " <selenium.webdriver.remote.webelement.WebElement (session=\"63ab7537b64eda9539ed7e90618bdc6e\", element=\"55025c5b-94d2-4dac-863f-affcc6ecab5c\")>,\n",
       " <selenium.webdriver.remote.webelement.WebElement (session=\"63ab7537b64eda9539ed7e90618bdc6e\", element=\"064bebf7-fef9-4858-92db-3d7aae284d8a\")>]"
      ]
     },
     "execution_count": 55,
     "metadata": {},
     "output_type": "execute_result"
    }
   ],
   "source": [
    "artist_tags = driver.find_elements_by_xpath (\"//span[@class = 'chart-element__information__artist text--truncate color--secondary']\")\n",
    "artist_tags [0:10]"
   ]
  },
  {
   "cell_type": "code",
   "execution_count": 56,
   "metadata": {},
   "outputs": [
    {
     "data": {
      "text/plain": [
       "['The Weeknd & Ariana Grande',\n",
       " 'Silk Sonic (Bruno Mars & Anderson .Paak)',\n",
       " 'Justin Bieber Featuring Daniel Caesar & Giveon',\n",
       " 'Polo G',\n",
       " 'Dua Lipa Featuring DaBaby',\n",
       " 'Doja Cat Featuring SZA',\n",
       " 'Lil Nas X',\n",
       " 'Masked Wolf',\n",
       " 'Cardi B',\n",
       " 'Olivia Rodrigo']"
      ]
     },
     "execution_count": 56,
     "metadata": {},
     "output_type": "execute_result"
    }
   ],
   "source": [
    "for i in  artist_tags:\n",
    "    artists = i.text\n",
    "    artist_name.append(artists)\n",
    "artist_name [0:10]"
   ]
  },
  {
   "cell_type": "code",
   "execution_count": 57,
   "metadata": {},
   "outputs": [
    {
     "data": {
      "text/plain": [
       "[<selenium.webdriver.remote.webelement.WebElement (session=\"63ab7537b64eda9539ed7e90618bdc6e\", element=\"1e27e091-82ac-4211-a9bd-fbbf21d8f83a\")>,\n",
       " <selenium.webdriver.remote.webelement.WebElement (session=\"63ab7537b64eda9539ed7e90618bdc6e\", element=\"37ca8962-b0e1-4968-8ebf-7530709b3559\")>,\n",
       " <selenium.webdriver.remote.webelement.WebElement (session=\"63ab7537b64eda9539ed7e90618bdc6e\", element=\"d399ebe7-d7cc-4aba-bb92-56dab06ec732\")>,\n",
       " <selenium.webdriver.remote.webelement.WebElement (session=\"63ab7537b64eda9539ed7e90618bdc6e\", element=\"722c3821-fced-457c-aac8-56ef7fa159fc\")>,\n",
       " <selenium.webdriver.remote.webelement.WebElement (session=\"63ab7537b64eda9539ed7e90618bdc6e\", element=\"bedee2cb-17c6-4b96-adbf-17cb06c93f57\")>,\n",
       " <selenium.webdriver.remote.webelement.WebElement (session=\"63ab7537b64eda9539ed7e90618bdc6e\", element=\"bd193391-8c2a-4cd9-b2e0-23983967a954\")>,\n",
       " <selenium.webdriver.remote.webelement.WebElement (session=\"63ab7537b64eda9539ed7e90618bdc6e\", element=\"dc61c18e-0d5e-4458-bb6b-1bafbdb1cf46\")>,\n",
       " <selenium.webdriver.remote.webelement.WebElement (session=\"63ab7537b64eda9539ed7e90618bdc6e\", element=\"9f752d5b-292a-4a9d-aa90-50da9bec1248\")>,\n",
       " <selenium.webdriver.remote.webelement.WebElement (session=\"63ab7537b64eda9539ed7e90618bdc6e\", element=\"c25500be-27ff-43ac-957e-64473070491a\")>,\n",
       " <selenium.webdriver.remote.webelement.WebElement (session=\"63ab7537b64eda9539ed7e90618bdc6e\", element=\"95e10328-344f-4539-a9b3-aa23e95288be\")>]"
      ]
     },
     "execution_count": 57,
     "metadata": {},
     "output_type": "execute_result"
    }
   ],
   "source": [
    "lastweek_tags = driver.find_elements_by_xpath (\"//div[@class = 'chart-element__meta text--center color--secondary text--last']\")\n",
    "lastweek_tags [0:10]"
   ]
  },
  {
   "cell_type": "code",
   "execution_count": 58,
   "metadata": {},
   "outputs": [
    {
     "data": {
      "text/plain": [
       "['6', '2', '3', '1', '5', '8', '4', '7', '9', '10']"
      ]
     },
     "execution_count": 58,
     "metadata": {},
     "output_type": "execute_result"
    }
   ],
   "source": [
    "for i in  lastweek_tags:\n",
    "    lastweek = i.text\n",
    "    last_week_rank.append(lastweek)\n",
    "last_week_rank [0:10]"
   ]
  },
  {
   "cell_type": "code",
   "execution_count": 59,
   "metadata": {},
   "outputs": [
    {
     "data": {
      "text/plain": [
       "[<selenium.webdriver.remote.webelement.WebElement (session=\"63ab7537b64eda9539ed7e90618bdc6e\", element=\"92e34e63-66fd-4f2e-906c-a2eda85e8f41\")>,\n",
       " <selenium.webdriver.remote.webelement.WebElement (session=\"63ab7537b64eda9539ed7e90618bdc6e\", element=\"cea8e259-218c-4aca-8c29-6644205d232d\")>,\n",
       " <selenium.webdriver.remote.webelement.WebElement (session=\"63ab7537b64eda9539ed7e90618bdc6e\", element=\"37e5c574-fa9e-4d56-9e59-43dd3ce92ee1\")>,\n",
       " <selenium.webdriver.remote.webelement.WebElement (session=\"63ab7537b64eda9539ed7e90618bdc6e\", element=\"434bf8d7-cd9f-4b4e-b383-6f7227db29fc\")>,\n",
       " <selenium.webdriver.remote.webelement.WebElement (session=\"63ab7537b64eda9539ed7e90618bdc6e\", element=\"72581a41-e94d-435a-bd60-28c760c93272\")>,\n",
       " <selenium.webdriver.remote.webelement.WebElement (session=\"63ab7537b64eda9539ed7e90618bdc6e\", element=\"b73000ca-ceda-4ffa-a8cd-ab6354c98e21\")>,\n",
       " <selenium.webdriver.remote.webelement.WebElement (session=\"63ab7537b64eda9539ed7e90618bdc6e\", element=\"f15a4311-7d8f-4cdd-9137-c1a9fc6d9a4a\")>,\n",
       " <selenium.webdriver.remote.webelement.WebElement (session=\"63ab7537b64eda9539ed7e90618bdc6e\", element=\"a1cab762-af90-4278-9499-689e49cf7599\")>,\n",
       " <selenium.webdriver.remote.webelement.WebElement (session=\"63ab7537b64eda9539ed7e90618bdc6e\", element=\"c7d381cc-c711-417e-a548-f60e7ead620c\")>,\n",
       " <selenium.webdriver.remote.webelement.WebElement (session=\"63ab7537b64eda9539ed7e90618bdc6e\", element=\"937de60a-c2c4-40bb-a70b-e5f71431ac29\")>]"
      ]
     },
     "execution_count": 59,
     "metadata": {},
     "output_type": "execute_result"
    }
   ],
   "source": [
    "peak_tags = driver.find_elements_by_xpath (\"//div[@class = 'chart-element__meta text--center color--secondary text--peak']\")\n",
    "peak_tags [0:10]"
   ]
  },
  {
   "cell_type": "code",
   "execution_count": 60,
   "metadata": {},
   "outputs": [
    {
     "data": {
      "text/plain": [
       "['1', '1', '1', '1', '5', '6', '1', '7', '1', '1']"
      ]
     },
     "execution_count": 60,
     "metadata": {},
     "output_type": "execute_result"
    }
   ],
   "source": [
    "for i in  peak_tags:\n",
    "    peaks = i.text\n",
    "    peak_rank.append(peaks)\n",
    "peak_rank [0:10]"
   ]
  },
  {
   "cell_type": "code",
   "execution_count": 61,
   "metadata": {},
   "outputs": [
    {
     "data": {
      "text/plain": [
       "[<selenium.webdriver.remote.webelement.WebElement (session=\"63ab7537b64eda9539ed7e90618bdc6e\", element=\"2463322e-7535-4468-b1c0-3ba0548727b6\")>,\n",
       " <selenium.webdriver.remote.webelement.WebElement (session=\"63ab7537b64eda9539ed7e90618bdc6e\", element=\"4e060a40-cf1e-4404-a2a0-bbbcef49c795\")>,\n",
       " <selenium.webdriver.remote.webelement.WebElement (session=\"63ab7537b64eda9539ed7e90618bdc6e\", element=\"4b158b82-33bb-4faa-8341-ae7e5531392a\")>,\n",
       " <selenium.webdriver.remote.webelement.WebElement (session=\"63ab7537b64eda9539ed7e90618bdc6e\", element=\"9606e31f-7179-47a0-9655-08bab309ff72\")>,\n",
       " <selenium.webdriver.remote.webelement.WebElement (session=\"63ab7537b64eda9539ed7e90618bdc6e\", element=\"09710140-981d-4fb4-98cd-cd7c97cbd5ba\")>,\n",
       " <selenium.webdriver.remote.webelement.WebElement (session=\"63ab7537b64eda9539ed7e90618bdc6e\", element=\"09a73184-84bc-48c1-acb5-e8601fa0c701\")>,\n",
       " <selenium.webdriver.remote.webelement.WebElement (session=\"63ab7537b64eda9539ed7e90618bdc6e\", element=\"4e363e1b-1014-4818-9d3b-94439879436f\")>,\n",
       " <selenium.webdriver.remote.webelement.WebElement (session=\"63ab7537b64eda9539ed7e90618bdc6e\", element=\"a5abbefb-deca-4f4e-93f5-2b639468d72b\")>,\n",
       " <selenium.webdriver.remote.webelement.WebElement (session=\"63ab7537b64eda9539ed7e90618bdc6e\", element=\"7e30deb9-232e-41dc-9dab-fd44696701ed\")>,\n",
       " <selenium.webdriver.remote.webelement.WebElement (session=\"63ab7537b64eda9539ed7e90618bdc6e\", element=\"b6794473-ff49-455b-a90d-3c908be8bd96\")>]"
      ]
     },
     "execution_count": 61,
     "metadata": {},
     "output_type": "execute_result"
    }
   ],
   "source": [
    "onboard_tags = driver.find_elements_by_xpath (\"//div[@class = 'chart-element__meta text--center color--secondary text--week']\")\n",
    "onboard_tags [0:10]"
   ]
  },
  {
   "cell_type": "code",
   "execution_count": 62,
   "metadata": {},
   "outputs": [
    {
     "data": {
      "text/plain": [
       "['20', '8', '6', '3', '30', '3', '5', '11', '12', '16']"
      ]
     },
     "execution_count": 62,
     "metadata": {},
     "output_type": "execute_result"
    }
   ],
   "source": [
    "for i in  onboard_tags:\n",
    "    onboard = i.text\n",
    "    weeks_onboard.append(onboard)\n",
    "weeks_onboard [0:10]"
   ]
  },
  {
   "cell_type": "code",
   "execution_count": 63,
   "metadata": {},
   "outputs": [
    {
     "name": "stdout",
     "output_type": "stream",
     "text": [
      "100 100 100 100 100\n"
     ]
    }
   ],
   "source": [
    "print (len (song_name),len (artist_name),len (last_week_rank),len (peak_rank),len (weeks_onboard))"
   ]
  },
  {
   "cell_type": "code",
   "execution_count": 64,
   "metadata": {},
   "outputs": [],
   "source": [
    "#importing pandas\n",
    "chart100 = pd.DataFrame ({})\n",
    "chart100 ['SONG'] = song_name\n",
    "chart100 ['ARTIST'] = artist_name\n",
    "chart100 ['LASTWEEK RANK'] = last_week_rank\n",
    "chart100 ['PEAK RANK'] = peak_rank\n",
    "chart100 ['WEEKS ONBOARD'] = weeks_onboard"
   ]
  },
  {
   "cell_type": "code",
   "execution_count": 65,
   "metadata": {},
   "outputs": [
    {
     "data": {
      "text/html": [
       "<div>\n",
       "<style scoped>\n",
       "    .dataframe tbody tr th:only-of-type {\n",
       "        vertical-align: middle;\n",
       "    }\n",
       "\n",
       "    .dataframe tbody tr th {\n",
       "        vertical-align: top;\n",
       "    }\n",
       "\n",
       "    .dataframe thead th {\n",
       "        text-align: right;\n",
       "    }\n",
       "</style>\n",
       "<table border=\"1\" class=\"dataframe\">\n",
       "  <thead>\n",
       "    <tr style=\"text-align: right;\">\n",
       "      <th></th>\n",
       "      <th>SONG</th>\n",
       "      <th>ARTIST</th>\n",
       "      <th>LASTWEEK RANK</th>\n",
       "      <th>PEAK RANK</th>\n",
       "      <th>WEEKS ONBOARD</th>\n",
       "    </tr>\n",
       "  </thead>\n",
       "  <tbody>\n",
       "    <tr>\n",
       "      <th>0</th>\n",
       "      <td>Save Your Tears</td>\n",
       "      <td>The Weeknd &amp; Ariana Grande</td>\n",
       "      <td>6</td>\n",
       "      <td>1</td>\n",
       "      <td>20</td>\n",
       "    </tr>\n",
       "    <tr>\n",
       "      <th>1</th>\n",
       "      <td>Leave The Door Open</td>\n",
       "      <td>Silk Sonic (Bruno Mars &amp; Anderson .Paak)</td>\n",
       "      <td>2</td>\n",
       "      <td>1</td>\n",
       "      <td>8</td>\n",
       "    </tr>\n",
       "    <tr>\n",
       "      <th>2</th>\n",
       "      <td>Peaches</td>\n",
       "      <td>Justin Bieber Featuring Daniel Caesar &amp; Giveon</td>\n",
       "      <td>3</td>\n",
       "      <td>1</td>\n",
       "      <td>6</td>\n",
       "    </tr>\n",
       "    <tr>\n",
       "      <th>3</th>\n",
       "      <td>Rapstar</td>\n",
       "      <td>Polo G</td>\n",
       "      <td>1</td>\n",
       "      <td>1</td>\n",
       "      <td>3</td>\n",
       "    </tr>\n",
       "    <tr>\n",
       "      <th>4</th>\n",
       "      <td>Levitating</td>\n",
       "      <td>Dua Lipa Featuring DaBaby</td>\n",
       "      <td>5</td>\n",
       "      <td>5</td>\n",
       "      <td>30</td>\n",
       "    </tr>\n",
       "    <tr>\n",
       "      <th>...</th>\n",
       "      <td>...</td>\n",
       "      <td>...</td>\n",
       "      <td>...</td>\n",
       "      <td>...</td>\n",
       "      <td>...</td>\n",
       "    </tr>\n",
       "    <tr>\n",
       "      <th>95</th>\n",
       "      <td>4 Da Gang</td>\n",
       "      <td>42 Dugg &amp; Roddy Ricch</td>\n",
       "      <td>100</td>\n",
       "      <td>67</td>\n",
       "      <td>4</td>\n",
       "    </tr>\n",
       "    <tr>\n",
       "      <th>96</th>\n",
       "      <td>Blame It On You</td>\n",
       "      <td>Jason Aldean</td>\n",
       "      <td>-</td>\n",
       "      <td>97</td>\n",
       "      <td>1</td>\n",
       "    </tr>\n",
       "    <tr>\n",
       "      <th>97</th>\n",
       "      <td>Wasted On You</td>\n",
       "      <td>Morgan Wallen</td>\n",
       "      <td>92</td>\n",
       "      <td>9</td>\n",
       "      <td>16</td>\n",
       "    </tr>\n",
       "    <tr>\n",
       "      <th>98</th>\n",
       "      <td>Way Less Sad</td>\n",
       "      <td>AJR</td>\n",
       "      <td>-</td>\n",
       "      <td>99</td>\n",
       "      <td>1</td>\n",
       "    </tr>\n",
       "    <tr>\n",
       "      <th>99</th>\n",
       "      <td>Clear Da Air</td>\n",
       "      <td>Moneybagg Yo</td>\n",
       "      <td>-</td>\n",
       "      <td>100</td>\n",
       "      <td>1</td>\n",
       "    </tr>\n",
       "  </tbody>\n",
       "</table>\n",
       "<p>100 rows × 5 columns</p>\n",
       "</div>"
      ],
      "text/plain": [
       "                   SONG                                          ARTIST  \\\n",
       "0       Save Your Tears                      The Weeknd & Ariana Grande   \n",
       "1   Leave The Door Open        Silk Sonic (Bruno Mars & Anderson .Paak)   \n",
       "2               Peaches  Justin Bieber Featuring Daniel Caesar & Giveon   \n",
       "3               Rapstar                                          Polo G   \n",
       "4            Levitating                       Dua Lipa Featuring DaBaby   \n",
       "..                  ...                                             ...   \n",
       "95            4 Da Gang                           42 Dugg & Roddy Ricch   \n",
       "96      Blame It On You                                    Jason Aldean   \n",
       "97        Wasted On You                                   Morgan Wallen   \n",
       "98         Way Less Sad                                             AJR   \n",
       "99         Clear Da Air                                    Moneybagg Yo   \n",
       "\n",
       "   LASTWEEK RANK PEAK RANK WEEKS ONBOARD  \n",
       "0              6         1            20  \n",
       "1              2         1             8  \n",
       "2              3         1             6  \n",
       "3              1         1             3  \n",
       "4              5         5            30  \n",
       "..           ...       ...           ...  \n",
       "95           100        67             4  \n",
       "96             -        97             1  \n",
       "97            92         9            16  \n",
       "98             -        99             1  \n",
       "99             -       100             1  \n",
       "\n",
       "[100 rows x 5 columns]"
      ]
     },
     "execution_count": 65,
     "metadata": {},
     "output_type": "execute_result"
    }
   ],
   "source": [
    "chart100"
   ]
  },
  {
   "cell_type": "code",
   "execution_count": 66,
   "metadata": {},
   "outputs": [],
   "source": [
    "driver.close ()"
   ]
  },
  {
   "cell_type": "raw",
   "metadata": {},
   "source": [
    "Q5. Scrape the details of trending repositories on Github.com.\n",
    "Url = https://github.com/\n",
    "You have to find the following details:\n",
    "A) Repository title\n",
    "B) Repository description\n",
    "C) Contributors count\n",
    "D) Language used\n",
    "Note: - From the home page you have to click on the trending option from Explore menu through code."
   ]
  },
  {
   "cell_type": "code",
   "execution_count": 97,
   "metadata": {},
   "outputs": [],
   "source": [
    "import selenium\n",
    "import pandas as pd\n",
    "from selenium import webdriver"
   ]
  },
  {
   "cell_type": "code",
   "execution_count": 98,
   "metadata": {},
   "outputs": [],
   "source": [
    "driver = webdriver.Chrome(r\"C://chromedriver.exe\")"
   ]
  },
  {
   "cell_type": "code",
   "execution_count": 99,
   "metadata": {},
   "outputs": [],
   "source": [
    "driver.get(\"https://github.com/\")"
   ]
  },
  {
   "cell_type": "code",
   "execution_count": 100,
   "metadata": {},
   "outputs": [
    {
     "ename": "NoSuchElementException",
     "evalue": "Message: no such element: Unable to locate element: {\"method\":\"xpath\",\"selector\":\"//a[@class ='js-selected-navigation-item Header-link mt-md-n3 mb-md-n3 py-2 py-md-3 mr-0 mr-md-3 border-top border-md-top-0 border-white-fade-15']/button\"}\n  (Session info: chrome=90.0.4430.93)\n",
     "output_type": "error",
     "traceback": [
      "\u001b[1;31m---------------------------------------------------------------------------\u001b[0m",
      "\u001b[1;31mNoSuchElementException\u001b[0m                    Traceback (most recent call last)",
      "\u001b[1;32m<ipython-input-100-360f931c618b>\u001b[0m in \u001b[0;36m<module>\u001b[1;34m\u001b[0m\n\u001b[1;32m----> 1\u001b[1;33m \u001b[0msearch_btn\u001b[0m \u001b[1;33m=\u001b[0m \u001b[0mdriver\u001b[0m\u001b[1;33m.\u001b[0m\u001b[0mfind_element_by_xpath\u001b[0m\u001b[1;33m(\u001b[0m\u001b[1;34m\"//a[@class ='js-selected-navigation-item Header-link mt-md-n3 mb-md-n3 py-2 py-md-3 mr-0 mr-md-3 border-top border-md-top-0 border-white-fade-15']/button\"\u001b[0m\u001b[1;33m)\u001b[0m\u001b[1;33m\u001b[0m\u001b[1;33m\u001b[0m\u001b[0m\n\u001b[0m\u001b[0;32m      2\u001b[0m \u001b[0msearch_btn\u001b[0m\u001b[1;33m.\u001b[0m\u001b[0mclick\u001b[0m\u001b[1;33m(\u001b[0m\u001b[1;33m)\u001b[0m\u001b[1;33m\u001b[0m\u001b[1;33m\u001b[0m\u001b[0m\n",
      "\u001b[1;32m~\\anaconda3\\lib\\site-packages\\selenium\\webdriver\\remote\\webdriver.py\u001b[0m in \u001b[0;36mfind_element_by_xpath\u001b[1;34m(self, xpath)\u001b[0m\n\u001b[0;32m    392\u001b[0m             \u001b[0melement\u001b[0m \u001b[1;33m=\u001b[0m \u001b[0mdriver\u001b[0m\u001b[1;33m.\u001b[0m\u001b[0mfind_element_by_xpath\u001b[0m\u001b[1;33m(\u001b[0m\u001b[1;34m'//div/td[1]'\u001b[0m\u001b[1;33m)\u001b[0m\u001b[1;33m\u001b[0m\u001b[1;33m\u001b[0m\u001b[0m\n\u001b[0;32m    393\u001b[0m         \"\"\"\n\u001b[1;32m--> 394\u001b[1;33m         \u001b[1;32mreturn\u001b[0m \u001b[0mself\u001b[0m\u001b[1;33m.\u001b[0m\u001b[0mfind_element\u001b[0m\u001b[1;33m(\u001b[0m\u001b[0mby\u001b[0m\u001b[1;33m=\u001b[0m\u001b[0mBy\u001b[0m\u001b[1;33m.\u001b[0m\u001b[0mXPATH\u001b[0m\u001b[1;33m,\u001b[0m \u001b[0mvalue\u001b[0m\u001b[1;33m=\u001b[0m\u001b[0mxpath\u001b[0m\u001b[1;33m)\u001b[0m\u001b[1;33m\u001b[0m\u001b[1;33m\u001b[0m\u001b[0m\n\u001b[0m\u001b[0;32m    395\u001b[0m \u001b[1;33m\u001b[0m\u001b[0m\n\u001b[0;32m    396\u001b[0m     \u001b[1;32mdef\u001b[0m \u001b[0mfind_elements_by_xpath\u001b[0m\u001b[1;33m(\u001b[0m\u001b[0mself\u001b[0m\u001b[1;33m,\u001b[0m \u001b[0mxpath\u001b[0m\u001b[1;33m)\u001b[0m\u001b[1;33m:\u001b[0m\u001b[1;33m\u001b[0m\u001b[1;33m\u001b[0m\u001b[0m\n",
      "\u001b[1;32m~\\anaconda3\\lib\\site-packages\\selenium\\webdriver\\remote\\webdriver.py\u001b[0m in \u001b[0;36mfind_element\u001b[1;34m(self, by, value)\u001b[0m\n\u001b[0;32m    976\u001b[0m         return self.execute(Command.FIND_ELEMENT, {\n\u001b[0;32m    977\u001b[0m             \u001b[1;34m'using'\u001b[0m\u001b[1;33m:\u001b[0m \u001b[0mby\u001b[0m\u001b[1;33m,\u001b[0m\u001b[1;33m\u001b[0m\u001b[1;33m\u001b[0m\u001b[0m\n\u001b[1;32m--> 978\u001b[1;33m             'value': value})['value']\n\u001b[0m\u001b[0;32m    979\u001b[0m \u001b[1;33m\u001b[0m\u001b[0m\n\u001b[0;32m    980\u001b[0m     \u001b[1;32mdef\u001b[0m \u001b[0mfind_elements\u001b[0m\u001b[1;33m(\u001b[0m\u001b[0mself\u001b[0m\u001b[1;33m,\u001b[0m \u001b[0mby\u001b[0m\u001b[1;33m=\u001b[0m\u001b[0mBy\u001b[0m\u001b[1;33m.\u001b[0m\u001b[0mID\u001b[0m\u001b[1;33m,\u001b[0m \u001b[0mvalue\u001b[0m\u001b[1;33m=\u001b[0m\u001b[1;32mNone\u001b[0m\u001b[1;33m)\u001b[0m\u001b[1;33m:\u001b[0m\u001b[1;33m\u001b[0m\u001b[1;33m\u001b[0m\u001b[0m\n",
      "\u001b[1;32m~\\anaconda3\\lib\\site-packages\\selenium\\webdriver\\remote\\webdriver.py\u001b[0m in \u001b[0;36mexecute\u001b[1;34m(self, driver_command, params)\u001b[0m\n\u001b[0;32m    319\u001b[0m         \u001b[0mresponse\u001b[0m \u001b[1;33m=\u001b[0m \u001b[0mself\u001b[0m\u001b[1;33m.\u001b[0m\u001b[0mcommand_executor\u001b[0m\u001b[1;33m.\u001b[0m\u001b[0mexecute\u001b[0m\u001b[1;33m(\u001b[0m\u001b[0mdriver_command\u001b[0m\u001b[1;33m,\u001b[0m \u001b[0mparams\u001b[0m\u001b[1;33m)\u001b[0m\u001b[1;33m\u001b[0m\u001b[1;33m\u001b[0m\u001b[0m\n\u001b[0;32m    320\u001b[0m         \u001b[1;32mif\u001b[0m \u001b[0mresponse\u001b[0m\u001b[1;33m:\u001b[0m\u001b[1;33m\u001b[0m\u001b[1;33m\u001b[0m\u001b[0m\n\u001b[1;32m--> 321\u001b[1;33m             \u001b[0mself\u001b[0m\u001b[1;33m.\u001b[0m\u001b[0merror_handler\u001b[0m\u001b[1;33m.\u001b[0m\u001b[0mcheck_response\u001b[0m\u001b[1;33m(\u001b[0m\u001b[0mresponse\u001b[0m\u001b[1;33m)\u001b[0m\u001b[1;33m\u001b[0m\u001b[1;33m\u001b[0m\u001b[0m\n\u001b[0m\u001b[0;32m    322\u001b[0m             response['value'] = self._unwrap_value(\n\u001b[0;32m    323\u001b[0m                 response.get('value', None))\n",
      "\u001b[1;32m~\\anaconda3\\lib\\site-packages\\selenium\\webdriver\\remote\\errorhandler.py\u001b[0m in \u001b[0;36mcheck_response\u001b[1;34m(self, response)\u001b[0m\n\u001b[0;32m    240\u001b[0m                 \u001b[0malert_text\u001b[0m \u001b[1;33m=\u001b[0m \u001b[0mvalue\u001b[0m\u001b[1;33m[\u001b[0m\u001b[1;34m'alert'\u001b[0m\u001b[1;33m]\u001b[0m\u001b[1;33m.\u001b[0m\u001b[0mget\u001b[0m\u001b[1;33m(\u001b[0m\u001b[1;34m'text'\u001b[0m\u001b[1;33m)\u001b[0m\u001b[1;33m\u001b[0m\u001b[1;33m\u001b[0m\u001b[0m\n\u001b[0;32m    241\u001b[0m             \u001b[1;32mraise\u001b[0m \u001b[0mexception_class\u001b[0m\u001b[1;33m(\u001b[0m\u001b[0mmessage\u001b[0m\u001b[1;33m,\u001b[0m \u001b[0mscreen\u001b[0m\u001b[1;33m,\u001b[0m \u001b[0mstacktrace\u001b[0m\u001b[1;33m,\u001b[0m \u001b[0malert_text\u001b[0m\u001b[1;33m)\u001b[0m\u001b[1;33m\u001b[0m\u001b[1;33m\u001b[0m\u001b[0m\n\u001b[1;32m--> 242\u001b[1;33m         \u001b[1;32mraise\u001b[0m \u001b[0mexception_class\u001b[0m\u001b[1;33m(\u001b[0m\u001b[0mmessage\u001b[0m\u001b[1;33m,\u001b[0m \u001b[0mscreen\u001b[0m\u001b[1;33m,\u001b[0m \u001b[0mstacktrace\u001b[0m\u001b[1;33m)\u001b[0m\u001b[1;33m\u001b[0m\u001b[1;33m\u001b[0m\u001b[0m\n\u001b[0m\u001b[0;32m    243\u001b[0m \u001b[1;33m\u001b[0m\u001b[0m\n\u001b[0;32m    244\u001b[0m     \u001b[1;32mdef\u001b[0m \u001b[0m_value_or_default\u001b[0m\u001b[1;33m(\u001b[0m\u001b[0mself\u001b[0m\u001b[1;33m,\u001b[0m \u001b[0mobj\u001b[0m\u001b[1;33m,\u001b[0m \u001b[0mkey\u001b[0m\u001b[1;33m,\u001b[0m \u001b[0mdefault\u001b[0m\u001b[1;33m)\u001b[0m\u001b[1;33m:\u001b[0m\u001b[1;33m\u001b[0m\u001b[1;33m\u001b[0m\u001b[0m\n",
      "\u001b[1;31mNoSuchElementException\u001b[0m: Message: no such element: Unable to locate element: {\"method\":\"xpath\",\"selector\":\"//a[@class ='js-selected-navigation-item Header-link mt-md-n3 mb-md-n3 py-2 py-md-3 mr-0 mr-md-3 border-top border-md-top-0 border-white-fade-15']/button\"}\n  (Session info: chrome=90.0.4430.93)\n"
     ]
    }
   ],
   "source": [
    "search_btn = driver.find_element_by_xpath(\"//a[@class ='js-selected-navigation-item Header-link mt-md-n3 mb-md-n3 py-2 py-md-3 mr-0 mr-md-3 border-top border-md-top-0 border-white-fade-15']/button\")\n",
    "search_btn.click()"
   ]
  },
  {
   "cell_type": "code",
   "execution_count": 101,
   "metadata": {},
   "outputs": [],
   "source": [
    "url1 = \"https://github.com/trending\""
   ]
  },
  {
   "cell_type": "code",
   "execution_count": 102,
   "metadata": {},
   "outputs": [],
   "source": [
    "driver.get(url1)"
   ]
  },
  {
   "cell_type": "code",
   "execution_count": 103,
   "metadata": {},
   "outputs": [],
   "source": [
    "Repository_title = []\n",
    "Repository_description = []\n",
    "Contributors_count = []\n",
    "Language_used = []"
   ]
  },
  {
   "cell_type": "code",
   "execution_count": 104,
   "metadata": {},
   "outputs": [
    {
     "data": {
      "text/plain": [
       "[<selenium.webdriver.remote.webelement.WebElement (session=\"2fcaadaab0f680f4381e7e43f39efd2c\", element=\"8f370635-502a-4691-b341-d0c670675103\")>,\n",
       " <selenium.webdriver.remote.webelement.WebElement (session=\"2fcaadaab0f680f4381e7e43f39efd2c\", element=\"ec3aa585-2307-4bd2-bc28-98ad5d196b02\")>,\n",
       " <selenium.webdriver.remote.webelement.WebElement (session=\"2fcaadaab0f680f4381e7e43f39efd2c\", element=\"ed6ba45c-2673-435e-965b-706e472d8fb6\")>,\n",
       " <selenium.webdriver.remote.webelement.WebElement (session=\"2fcaadaab0f680f4381e7e43f39efd2c\", element=\"1df8deac-101e-418e-addd-ebd60632a511\")>,\n",
       " <selenium.webdriver.remote.webelement.WebElement (session=\"2fcaadaab0f680f4381e7e43f39efd2c\", element=\"330f1dc3-7fe8-463e-9d4a-16a2cf9b8ab5\")>,\n",
       " <selenium.webdriver.remote.webelement.WebElement (session=\"2fcaadaab0f680f4381e7e43f39efd2c\", element=\"34c643d3-93dc-48ea-9635-a1a7b1adc6d4\")>,\n",
       " <selenium.webdriver.remote.webelement.WebElement (session=\"2fcaadaab0f680f4381e7e43f39efd2c\", element=\"4e4f959b-bb36-4903-86b7-b14ba55f410d\")>,\n",
       " <selenium.webdriver.remote.webelement.WebElement (session=\"2fcaadaab0f680f4381e7e43f39efd2c\", element=\"8d1f443a-4ddf-4c8e-975e-087690e98358\")>,\n",
       " <selenium.webdriver.remote.webelement.WebElement (session=\"2fcaadaab0f680f4381e7e43f39efd2c\", element=\"8f66824f-cba6-4db7-a455-7b9a3ee306f0\")>,\n",
       " <selenium.webdriver.remote.webelement.WebElement (session=\"2fcaadaab0f680f4381e7e43f39efd2c\", element=\"5e0b6277-585b-4f04-9ee5-80370e07436c\")>]"
      ]
     },
     "execution_count": 104,
     "metadata": {},
     "output_type": "execute_result"
    }
   ],
   "source": [
    "titles_tags = driver.find_elements_by_xpath (\"//h1[@class = 'h3 lh-condensed']\")\n",
    "titles_tags [0:10]"
   ]
  },
  {
   "cell_type": "code",
   "execution_count": 105,
   "metadata": {},
   "outputs": [
    {
     "data": {
      "text/plain": [
       "['abuanwar072 / Flutter-Responsive-Admin-Panel-or-Dashboard',\n",
       " 'pyston / pyston',\n",
       " 'slidevjs / slidev',\n",
       " 'pallupz / covid-vaccine-booking',\n",
       " 'youngyangyang04 / leetcode-master',\n",
       " 'milvus-io / milvus',\n",
       " 'Haixiang6123 / one-day-one-npm-lib',\n",
       " 'aurasphere / gomorra-sql',\n",
       " 'audacity / audacity',\n",
       " 'trimstray / the-book-of-secret-knowledge']"
      ]
     },
     "execution_count": 105,
     "metadata": {},
     "output_type": "execute_result"
    }
   ],
   "source": [
    "for i in  titles_tags:\n",
    "    title = i.text\n",
    "    Repository_title.append(title)\n",
    "Repository_title [0:10]"
   ]
  },
  {
   "cell_type": "code",
   "execution_count": 106,
   "metadata": {},
   "outputs": [
    {
     "data": {
      "text/plain": [
       "[<selenium.webdriver.remote.webelement.WebElement (session=\"2fcaadaab0f680f4381e7e43f39efd2c\", element=\"5b378165-1755-4910-b83b-35eeffd89b4a\")>,\n",
       " <selenium.webdriver.remote.webelement.WebElement (session=\"2fcaadaab0f680f4381e7e43f39efd2c\", element=\"9cf627e9-dc4e-45db-bc9f-949c788be57c\")>,\n",
       " <selenium.webdriver.remote.webelement.WebElement (session=\"2fcaadaab0f680f4381e7e43f39efd2c\", element=\"5f06f403-9f90-40a2-82af-dfa6421f9042\")>,\n",
       " <selenium.webdriver.remote.webelement.WebElement (session=\"2fcaadaab0f680f4381e7e43f39efd2c\", element=\"c98f8025-0e4e-48b4-83c5-839d5907cc3a\")>,\n",
       " <selenium.webdriver.remote.webelement.WebElement (session=\"2fcaadaab0f680f4381e7e43f39efd2c\", element=\"40e03fce-d14a-4dcf-8d12-8766f94c5a27\")>,\n",
       " <selenium.webdriver.remote.webelement.WebElement (session=\"2fcaadaab0f680f4381e7e43f39efd2c\", element=\"501aa8b0-8f84-4afd-90d4-9eca66a72d75\")>,\n",
       " <selenium.webdriver.remote.webelement.WebElement (session=\"2fcaadaab0f680f4381e7e43f39efd2c\", element=\"142deb46-a4ec-44bc-84fd-90156b214274\")>,\n",
       " <selenium.webdriver.remote.webelement.WebElement (session=\"2fcaadaab0f680f4381e7e43f39efd2c\", element=\"52f90380-02c9-4d5c-b118-ac66b65f21ff\")>,\n",
       " <selenium.webdriver.remote.webelement.WebElement (session=\"2fcaadaab0f680f4381e7e43f39efd2c\", element=\"18b88edf-3760-408b-9827-bd781027bd42\")>,\n",
       " <selenium.webdriver.remote.webelement.WebElement (session=\"2fcaadaab0f680f4381e7e43f39efd2c\", element=\"e2ace4b1-c707-4be0-b0ce-596277da4a1e\")>]"
      ]
     },
     "execution_count": 106,
     "metadata": {},
     "output_type": "execute_result"
    }
   ],
   "source": [
    "description_tags = driver.find_elements_by_xpath (\"//p[@class = 'col-9 color-text-secondary my-1 pr-4']\")\n",
    "description_tags [0:10]"
   ]
  },
  {
   "cell_type": "code",
   "execution_count": 107,
   "metadata": {},
   "outputs": [
    {
     "data": {
      "text/plain": [
       "['Responsive Admin Panel or Dashboard using Flutter',\n",
       " 'A faster and highly-compatible implementation of the Python programming language.',\n",
       " 'Presentation Slides for Developers (Public Beta 🎉)',\n",
       " 'This very basic script can be used to automate some steps on Co-WIN Platform.',\n",
       " 'LeetCode 刷题攻略：200道题目详细刷题顺序，共60w字的详细图解，视频难点剖析，50余张思维导图，从此算法学习不再迷茫！🔥🔥 来看看，你会发现相见恨晚！🚀',\n",
       " 'An open source embedding vector similarity search engine powered by Faiss, NMSLIB and Annoy',\n",
       " '这本小书会带你造 10 个非常实用的 npm 库 📦',\n",
       " 'SQL made uagliò.',\n",
       " 'Audio Editor',\n",
       " 'A collection of inspiring lists, manuals, cheatsheets, blogs, hacks, one-liners, cli/web tools and more.']"
      ]
     },
     "execution_count": 107,
     "metadata": {},
     "output_type": "execute_result"
    }
   ],
   "source": [
    "for i in  description_tags:\n",
    "    descrp = i.text\n",
    "    Repository_description.append(descrp)\n",
    "Repository_description [0:10]"
   ]
  },
  {
   "cell_type": "code",
   "execution_count": 114,
   "metadata": {},
   "outputs": [
    {
     "data": {
      "text/plain": [
       "[<selenium.webdriver.remote.webelement.WebElement (session=\"2fcaadaab0f680f4381e7e43f39efd2c\", element=\"c0da6a7b-27aa-471a-b06c-9d24d0b9eff9\")>,\n",
       " <selenium.webdriver.remote.webelement.WebElement (session=\"2fcaadaab0f680f4381e7e43f39efd2c\", element=\"61f3dd00-8fb3-455e-9458-944cc058b10d\")>,\n",
       " <selenium.webdriver.remote.webelement.WebElement (session=\"2fcaadaab0f680f4381e7e43f39efd2c\", element=\"d2988360-9b46-406a-ae20-21937a705825\")>,\n",
       " <selenium.webdriver.remote.webelement.WebElement (session=\"2fcaadaab0f680f4381e7e43f39efd2c\", element=\"a8523cfe-337b-4c15-ae68-1bd4c1b14bd2\")>,\n",
       " <selenium.webdriver.remote.webelement.WebElement (session=\"2fcaadaab0f680f4381e7e43f39efd2c\", element=\"6bafbbb5-593a-40cb-9707-864045a9abd7\")>,\n",
       " <selenium.webdriver.remote.webelement.WebElement (session=\"2fcaadaab0f680f4381e7e43f39efd2c\", element=\"5f03474d-0214-4c7d-9422-7d4ba7474e6f\")>,\n",
       " <selenium.webdriver.remote.webelement.WebElement (session=\"2fcaadaab0f680f4381e7e43f39efd2c\", element=\"ca03f23e-3a3b-4d77-82c3-502e618c4e2d\")>,\n",
       " <selenium.webdriver.remote.webelement.WebElement (session=\"2fcaadaab0f680f4381e7e43f39efd2c\", element=\"da838bcf-b436-447a-98a4-a6af3f113ed8\")>,\n",
       " <selenium.webdriver.remote.webelement.WebElement (session=\"2fcaadaab0f680f4381e7e43f39efd2c\", element=\"8d80e6b2-4c86-4449-b605-2e0d824f6572\")>,\n",
       " <selenium.webdriver.remote.webelement.WebElement (session=\"2fcaadaab0f680f4381e7e43f39efd2c\", element=\"b91c151f-efdb-4f77-bcf6-6cea7f2ce8ee\")>]"
      ]
     },
     "execution_count": 114,
     "metadata": {},
     "output_type": "execute_result"
    }
   ],
   "source": [
    "contributors_tags = driver.find_elements_by_xpath (\"//a[@class = 'Link--muted d-inline-block mr-3']\")\n",
    "contributors_tags [0:10]"
   ]
  },
  {
   "cell_type": "code",
   "execution_count": 109,
   "metadata": {},
   "outputs": [
    {
     "data": {
      "text/plain": [
       "['1,307', '208', '784', '19', '3,846', '93', '368', '147', '7,397', '1,764']"
      ]
     },
     "execution_count": 109,
     "metadata": {},
     "output_type": "execute_result"
    }
   ],
   "source": [
    "for i in  contributors_tags:\n",
    "    contri = i.text\n",
    "    Contributors_count.append(contri)\n",
    "Contributors_count [0:10]"
   ]
  },
  {
   "cell_type": "code",
   "execution_count": 110,
   "metadata": {},
   "outputs": [
    {
     "data": {
      "text/plain": [
       "[<selenium.webdriver.remote.webelement.WebElement (session=\"2fcaadaab0f680f4381e7e43f39efd2c\", element=\"28d74172-f473-485c-9d9b-35f32dbcd197\")>,\n",
       " <selenium.webdriver.remote.webelement.WebElement (session=\"2fcaadaab0f680f4381e7e43f39efd2c\", element=\"3fdd60a8-3ff9-4f5b-8854-ff9357725616\")>,\n",
       " <selenium.webdriver.remote.webelement.WebElement (session=\"2fcaadaab0f680f4381e7e43f39efd2c\", element=\"d9039c66-d615-493c-82a1-e6ba98f52ea7\")>,\n",
       " <selenium.webdriver.remote.webelement.WebElement (session=\"2fcaadaab0f680f4381e7e43f39efd2c\", element=\"dfb3d2e8-1108-4169-b516-26c9ec0c47df\")>,\n",
       " <selenium.webdriver.remote.webelement.WebElement (session=\"2fcaadaab0f680f4381e7e43f39efd2c\", element=\"7c65493e-2897-4517-9dad-74e990c81e9e\")>,\n",
       " <selenium.webdriver.remote.webelement.WebElement (session=\"2fcaadaab0f680f4381e7e43f39efd2c\", element=\"44c1696d-3c0b-4510-be50-af587fa1b8f7\")>,\n",
       " <selenium.webdriver.remote.webelement.WebElement (session=\"2fcaadaab0f680f4381e7e43f39efd2c\", element=\"4f54dc67-d220-4e6c-9b58-78251b14c06b\")>,\n",
       " <selenium.webdriver.remote.webelement.WebElement (session=\"2fcaadaab0f680f4381e7e43f39efd2c\", element=\"4dd60e2a-9453-4d74-8a83-0662121b458f\")>,\n",
       " <selenium.webdriver.remote.webelement.WebElement (session=\"2fcaadaab0f680f4381e7e43f39efd2c\", element=\"3759d918-7759-40e1-b4ae-d863673b33d0\")>,\n",
       " <selenium.webdriver.remote.webelement.WebElement (session=\"2fcaadaab0f680f4381e7e43f39efd2c\", element=\"bbff91b1-7d0a-4c33-b0cb-9cded140d452\")>]"
      ]
     },
     "execution_count": 110,
     "metadata": {},
     "output_type": "execute_result"
    }
   ],
   "source": [
    "language_tags = driver.find_elements_by_xpath (\"//span[@class = 'd-inline-block ml-0 mr-3']\")\n",
    "language_tags [0:10]"
   ]
  },
  {
   "cell_type": "code",
   "execution_count": 111,
   "metadata": {},
   "outputs": [
    {
     "data": {
      "text/plain": [
       "['Dart',\n",
       " 'Python',\n",
       " 'TypeScript',\n",
       " 'Python',\n",
       " 'Go',\n",
       " 'Java',\n",
       " 'C',\n",
       " 'C',\n",
       " 'TypeScript',\n",
       " 'JavaScript']"
      ]
     },
     "execution_count": 111,
     "metadata": {},
     "output_type": "execute_result"
    }
   ],
   "source": [
    "for i in  language_tags:\n",
    "    language = i.text\n",
    "    Language_used.append(language)\n",
    "Language_used [0:10]"
   ]
  },
  {
   "cell_type": "code",
   "execution_count": 112,
   "metadata": {},
   "outputs": [
    {
     "name": "stdout",
     "output_type": "stream",
     "text": [
      "25 25 50 18\n"
     ]
    }
   ],
   "source": [
    "print (len (Repository_title),len (Repository_description),len (Contributors_count),len (Language_used))"
   ]
  },
  {
   "cell_type": "code",
   "execution_count": 116,
   "metadata": {},
   "outputs": [],
   "source": [
    "#importing pandas\n",
    "github = pd.DataFrame ({})\n",
    "github ['TITLE'] = Repository_title = []\n",
    "github ['DESCRIPTION'] = Repository_description\n",
    "github ['CONTRIBUTORS'] = Contributors_count\n",
    "github ['LANGUAGE'] = Language_used"
   ]
  },
  {
   "cell_type": "code",
   "execution_count": 117,
   "metadata": {},
   "outputs": [
    {
     "data": {
      "text/html": [
       "<div>\n",
       "<style scoped>\n",
       "    .dataframe tbody tr th:only-of-type {\n",
       "        vertical-align: middle;\n",
       "    }\n",
       "\n",
       "    .dataframe tbody tr th {\n",
       "        vertical-align: top;\n",
       "    }\n",
       "\n",
       "    .dataframe thead th {\n",
       "        text-align: right;\n",
       "    }\n",
       "</style>\n",
       "<table border=\"1\" class=\"dataframe\">\n",
       "  <thead>\n",
       "    <tr style=\"text-align: right;\">\n",
       "      <th></th>\n",
       "      <th>TITLE</th>\n",
       "      <th>DESCRIPTION</th>\n",
       "    </tr>\n",
       "  </thead>\n",
       "  <tbody>\n",
       "    <tr>\n",
       "      <th>0</th>\n",
       "      <td>NaN</td>\n",
       "      <td>Responsive Admin Panel or Dashboard using Flutter</td>\n",
       "    </tr>\n",
       "    <tr>\n",
       "      <th>1</th>\n",
       "      <td>NaN</td>\n",
       "      <td>A faster and highly-compatible implementation ...</td>\n",
       "    </tr>\n",
       "    <tr>\n",
       "      <th>2</th>\n",
       "      <td>NaN</td>\n",
       "      <td>Presentation Slides for Developers (Public Bet...</td>\n",
       "    </tr>\n",
       "    <tr>\n",
       "      <th>3</th>\n",
       "      <td>NaN</td>\n",
       "      <td>This very basic script can be used to automate...</td>\n",
       "    </tr>\n",
       "    <tr>\n",
       "      <th>4</th>\n",
       "      <td>NaN</td>\n",
       "      <td>LeetCode 刷题攻略：200道题目详细刷题顺序，共60w字的详细图解，视频难点剖析，5...</td>\n",
       "    </tr>\n",
       "    <tr>\n",
       "      <th>5</th>\n",
       "      <td>NaN</td>\n",
       "      <td>An open source embedding vector similarity sea...</td>\n",
       "    </tr>\n",
       "    <tr>\n",
       "      <th>6</th>\n",
       "      <td>NaN</td>\n",
       "      <td>这本小书会带你造 10 个非常实用的 npm 库 📦</td>\n",
       "    </tr>\n",
       "    <tr>\n",
       "      <th>7</th>\n",
       "      <td>NaN</td>\n",
       "      <td>SQL made uagliò.</td>\n",
       "    </tr>\n",
       "    <tr>\n",
       "      <th>8</th>\n",
       "      <td>NaN</td>\n",
       "      <td>Audio Editor</td>\n",
       "    </tr>\n",
       "    <tr>\n",
       "      <th>9</th>\n",
       "      <td>NaN</td>\n",
       "      <td>A collection of inspiring lists, manuals, chea...</td>\n",
       "    </tr>\n",
       "    <tr>\n",
       "      <th>10</th>\n",
       "      <td>NaN</td>\n",
       "      <td>The Reliable USB Formatting Utility</td>\n",
       "    </tr>\n",
       "    <tr>\n",
       "      <th>11</th>\n",
       "      <td>NaN</td>\n",
       "      <td>React Hooks — 👍</td>\n",
       "    </tr>\n",
       "    <tr>\n",
       "      <th>12</th>\n",
       "      <td>NaN</td>\n",
       "      <td>Pointers to useful, well-written, and otherwis...</td>\n",
       "    </tr>\n",
       "    <tr>\n",
       "      <th>13</th>\n",
       "      <td>NaN</td>\n",
       "      <td>👩‍💻👨‍💻 Awesome cheatsheets for popular program...</td>\n",
       "    </tr>\n",
       "    <tr>\n",
       "      <th>14</th>\n",
       "      <td>NaN</td>\n",
       "      <td>A cross-platform, OpenGL terminal emulator.</td>\n",
       "    </tr>\n",
       "    <tr>\n",
       "      <th>15</th>\n",
       "      <td>NaN</td>\n",
       "      <td>🔗 Some useful websites for programmers.</td>\n",
       "    </tr>\n",
       "    <tr>\n",
       "      <th>16</th>\n",
       "      <td>NaN</td>\n",
       "      <td>A powerful flow control component enabling rel...</td>\n",
       "    </tr>\n",
       "    <tr>\n",
       "      <th>17</th>\n",
       "      <td>NaN</td>\n",
       "      <td>Master the command line, in one page</td>\n",
       "    </tr>\n",
       "    <tr>\n",
       "      <th>18</th>\n",
       "      <td>NaN</td>\n",
       "      <td>High-Performance Java API Gateway</td>\n",
       "    </tr>\n",
       "    <tr>\n",
       "      <th>19</th>\n",
       "      <td>NaN</td>\n",
       "      <td>科技爱好者周刊，每周五发布</td>\n",
       "    </tr>\n",
       "    <tr>\n",
       "      <th>20</th>\n",
       "      <td>NaN</td>\n",
       "      <td>阿里巴巴 MySQL binlog 增量订阅&amp;消费组件</td>\n",
       "    </tr>\n",
       "    <tr>\n",
       "      <th>21</th>\n",
       "      <td>NaN</td>\n",
       "      <td>WinBox is a professional HTML5 window manager ...</td>\n",
       "    </tr>\n",
       "    <tr>\n",
       "      <th>22</th>\n",
       "      <td>NaN</td>\n",
       "      <td>The best way to write secure and reliable appl...</td>\n",
       "    </tr>\n",
       "    <tr>\n",
       "      <th>23</th>\n",
       "      <td>NaN</td>\n",
       "      <td>kcp is a prototype of a Kubernetes API server ...</td>\n",
       "    </tr>\n",
       "    <tr>\n",
       "      <th>24</th>\n",
       "      <td>NaN</td>\n",
       "      <td>Apache Iceberg</td>\n",
       "    </tr>\n",
       "  </tbody>\n",
       "</table>\n",
       "</div>"
      ],
      "text/plain": [
       "    TITLE                                        DESCRIPTION\n",
       "0     NaN  Responsive Admin Panel or Dashboard using Flutter\n",
       "1     NaN  A faster and highly-compatible implementation ...\n",
       "2     NaN  Presentation Slides for Developers (Public Bet...\n",
       "3     NaN  This very basic script can be used to automate...\n",
       "4     NaN  LeetCode 刷题攻略：200道题目详细刷题顺序，共60w字的详细图解，视频难点剖析，5...\n",
       "5     NaN  An open source embedding vector similarity sea...\n",
       "6     NaN                         这本小书会带你造 10 个非常实用的 npm 库 📦\n",
       "7     NaN                                   SQL made uagliò.\n",
       "8     NaN                                       Audio Editor\n",
       "9     NaN  A collection of inspiring lists, manuals, chea...\n",
       "10    NaN                The Reliable USB Formatting Utility\n",
       "11    NaN                                    React Hooks — 👍\n",
       "12    NaN  Pointers to useful, well-written, and otherwis...\n",
       "13    NaN  👩‍💻👨‍💻 Awesome cheatsheets for popular program...\n",
       "14    NaN        A cross-platform, OpenGL terminal emulator.\n",
       "15    NaN            🔗 Some useful websites for programmers.\n",
       "16    NaN  A powerful flow control component enabling rel...\n",
       "17    NaN               Master the command line, in one page\n",
       "18    NaN                  High-Performance Java API Gateway\n",
       "19    NaN                                      科技爱好者周刊，每周五发布\n",
       "20    NaN                        阿里巴巴 MySQL binlog 增量订阅&消费组件\n",
       "21    NaN  WinBox is a professional HTML5 window manager ...\n",
       "22    NaN  The best way to write secure and reliable appl...\n",
       "23    NaN  kcp is a prototype of a Kubernetes API server ...\n",
       "24    NaN                                     Apache Iceberg"
      ]
     },
     "execution_count": 117,
     "metadata": {},
     "output_type": "execute_result"
    }
   ],
   "source": [
    "github"
   ]
  },
  {
   "cell_type": "code",
   "execution_count": null,
   "metadata": {},
   "outputs": [],
   "source": [
    "driver.close()"
   ]
  }
 ],
 "metadata": {
  "kernelspec": {
   "display_name": "Python 3",
   "language": "python",
   "name": "python3"
  },
  "language_info": {
   "codemirror_mode": {
    "name": "ipython",
    "version": 3
   },
   "file_extension": ".py",
   "mimetype": "text/x-python",
   "name": "python",
   "nbconvert_exporter": "python",
   "pygments_lexer": "ipython3",
   "version": "3.7.6"
  }
 },
 "nbformat": 4,
 "nbformat_minor": 4
}
